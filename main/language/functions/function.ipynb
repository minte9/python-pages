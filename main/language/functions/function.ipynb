{
 "cells": [
  {
   "cell_type": "markdown",
   "metadata": {},
   "source": [
    "### Functions\n",
    "\n",
    "When you define a function, you specify the name and the sequence of `statements`.  \n",
    "Later, you can `call` the function by name.  \n",
    "\n",
    "To `end` the function, you have to enter an empty line.  \n",
    "Split a single instruction on `multple lines` with \\"
   ]
  },
  {
   "cell_type": "code",
   "execution_count": 2,
   "metadata": {},
   "outputs": [
    {
     "name": "stdout",
     "output_type": "stream",
     "text": [
      "1\n",
      "None\n",
      "Hello World\n"
     ]
    }
   ],
   "source": [
    "def f(a): \n",
    "    return a%2\n",
    "\n",
    "def h(x):\n",
    "    return\n",
    "\n",
    "print(f(3))     # 1\n",
    "print(h(\"2\"))   # None\n",
    "\n",
    "print(\"Hello \" + \\\n",
    "    \"World\")    # Hello World"
   ]
  },
  {
   "cell_type": "markdown",
   "metadata": {},
   "source": [
    "### Import \n",
    "\n",
    "To use a function from a `module`, you have to import it.  \n",
    "When you save your scripts don't use modules `names` like math, sys, csv.  "
   ]
  },
  {
   "cell_type": "code",
   "execution_count": 4,
   "metadata": {},
   "outputs": [
    {
     "name": "stdout",
     "output_type": "stream",
     "text": [
      "3.141592653589793\n",
      "1.0\n"
     ]
    }
   ],
   "source": [
    "import math\n",
    "\n",
    "print(math.pi)              # 3.141592653589793\n",
    "print(math.sin(math.pi/2))  # 1.0"
   ]
  },
  {
   "cell_type": "markdown",
   "metadata": {},
   "source": [
    "### Local variable\n",
    "\n",
    "A local variable is `destroyed` after the function is called.  \n",
    "To modify a global variable from within a function, use `global` statement.  "
   ]
  },
  {
   "cell_type": "code",
   "execution_count": 5,
   "metadata": {},
   "outputs": [
    {
     "name": "stdout",
     "output_type": "stream",
     "text": [
      "7\n",
      "9\n",
      "name 'c' is not defined\n"
     ]
    }
   ],
   "source": [
    "def f(a, b):\n",
    "    c = a + b\n",
    "    return c\n",
    "\n",
    "n = 0\n",
    "def h():\n",
    "    global n \n",
    "        # Look Here\n",
    "\n",
    "    for i in range(10):\n",
    "        n = i\n",
    "    return n\n",
    "\n",
    "print(f(3,4))   # 7\n",
    "print(h())      # 9\n",
    "\n",
    "try:\n",
    "    print(c)\n",
    "except Exception as e:\n",
    "    print(e) \n",
    "        # name c not defined\n"
   ]
  }
 ],
 "metadata": {
  "kernelspec": {
   "display_name": "Python 3",
   "language": "python",
   "name": "python3"
  },
  "language_info": {
   "codemirror_mode": {
    "name": "ipython",
    "version": 3
   },
   "file_extension": ".py",
   "mimetype": "text/x-python",
   "name": "python",
   "nbconvert_exporter": "python",
   "pygments_lexer": "ipython3",
   "version": "3.9.7"
  }
 },
 "nbformat": 4,
 "nbformat_minor": 2
}
