{
 "cells": [
  {
   "attachments": {},
   "cell_type": "markdown",
   "metadata": {},
   "source": [
    "### Numpy / Package\n",
    "\n",
    "Numerical Python `library` has support for large, multi-dimensional arrays and matrices. "
   ]
  },
  {
   "cell_type": "code",
   "execution_count": 11,
   "metadata": {},
   "outputs": [],
   "source": [
    "# pip install numpy\n",
    "\n",
    "import numpy as np"
   ]
  },
  {
   "attachments": {},
   "cell_type": "markdown",
   "metadata": {},
   "source": [
    "### Numpy / Vectors\n",
    "\n",
    "A vector is one-dimensional array, `row` or column."
   ]
  },
  {
   "cell_type": "code",
   "execution_count": 12,
   "metadata": {},
   "outputs": [
    {
     "name": "stdout",
     "output_type": "stream",
     "text": [
      "Row vector: \n",
      " [1 2 3]\n",
      "Column vector: \n",
      " [[1]\n",
      " [4]\n",
      " [3]]\n"
     ]
    }
   ],
   "source": [
    "a = np.array([1, 2, 3])\n",
    "b = np.array([[1], \n",
    "              [4], \n",
    "              [3]])\n",
    "\n",
    "print(\"Row vector: \\n\", a)\n",
    "print(\"Column vector: \\n\", b)"
   ]
  },
  {
   "attachments": {},
   "cell_type": "markdown",
   "metadata": {},
   "source": [
    "### Numpy / Matrices\n",
    "\n",
    "Numpy's `main` data structure is the multidimensional array (matrix)."
   ]
  },
  {
   "cell_type": "code",
   "execution_count": 13,
   "metadata": {},
   "outputs": [
    {
     "name": "stdout",
     "output_type": "stream",
     "text": [
      "Matrix: \n",
      " [[ 1  2  3  4]\n",
      " [ 5  6  7  8]\n",
      " [ 9 10 11 12]]\n",
      "Shape: (3, 4)\n",
      "Size: 12\n",
      "Number of array dimension: 2\n"
     ]
    }
   ],
   "source": [
    "# matrix with three rows, four columns\n",
    "\n",
    "A = np.array([\n",
    "    [1, 2, 3, 4],\n",
    "    [5, 6, 7, 8],\n",
    "    [9, 10, 11, 12],\n",
    "])\n",
    "\n",
    "print(\"Matrix: \\n\", A)\n",
    "print(\"Shape:\", A.shape)\n",
    "print(\"Size:\", A.size)\n",
    "print(\"Number of array dimension:\", A.ndim)"
   ]
  },
  {
   "attachments": {},
   "cell_type": "markdown",
   "metadata": {},
   "source": [
    "\n",
    "### Matrix / Accessing Elements\n",
    "\n",
    "The data elements in a matrix can be accessed by using `[:]` slice notation (up-to OR after)."
   ]
  },
  {
   "cell_type": "code",
   "execution_count": 14,
   "metadata": {},
   "outputs": [
    {
     "name": "stdout",
     "output_type": "stream",
     "text": [
      "a[:]    = [1 2 3 4 5 6]\n",
      "a[:3]   = [1 2 3]\n",
      "a[0:3]  = [1 2 3]\n",
      "a[3:]   = [4 5 6]\n",
      "a[-1]   = 6\n",
      "a[3:-1] = [4 5]\n"
     ]
    }
   ],
   "source": [
    "a = np.array([1, 2, 3, 4, 5, 6])\n",
    "\n",
    "print(\"a[:]    =\", a[:])        # entire range of elements\n",
    "print(\"a[:3]   =\", a[:3])       # 0 to 3 (not included)\n",
    "print(\"a[0:3]  =\", a[0:3])      # 0 to 3 (not included)\n",
    "print(\"a[3:]   =\", a[3:])       # 3 (included) to last\n",
    "print(\"a[-1]   =\", a[-1])       # last\n",
    "print(\"a[3:-1] =\", a[3:-1])     # 3 to last (not included)"
   ]
  },
  {
   "attachments": {},
   "cell_type": "markdown",
   "metadata": {},
   "source": [
    "### Matrix / Zero Indexed\n",
    "\n",
    "Arrays are zero-indexed, `first` element has the index 0."
   ]
  },
  {
   "cell_type": "code",
   "execution_count": 15,
   "metadata": {},
   "outputs": [
    {
     "name": "stdout",
     "output_type": "stream",
     "text": [
      "A[1,1] = 6\n",
      "A[:2, :] =\n",
      "[[1 2 3 4]\n",
      " [5 6 7 8]]\n",
      "A[:, 1:2] =\n",
      "[[ 2]\n",
      " [ 6]\n",
      " [10]]\n"
     ]
    }
   ],
   "source": [
    "A = np.array([\n",
    "    [1, 2, 3, 4],\n",
    "    [5, 6, 7, 8],\n",
    "    [9, 10, 11, 12],\n",
    "])\n",
    "\n",
    "print(\"A[1,1] =\", A[1,1])                 # second row, second column\n",
    "print(\"A[:2, :] =\"); print(A[:2, :])      # 0 to 2 rows, all columns\n",
    "print(\"A[:, 1:2] =\"); print(A[:, 1:2])    # all rows, second column"
   ]
  },
  {
   "attachments": {},
   "cell_type": "markdown",
   "metadata": {},
   "source": [
    "### Sparse Matrices\n",
    "\n",
    "A sparse matrix stores `only` non-zero elements, for computation savings."
   ]
  },
  {
   "cell_type": "code",
   "execution_count": 16,
   "metadata": {},
   "outputs": [
    {
     "name": "stdout",
     "output_type": "stream",
     "text": [
      "  (1, 1)\t1\n",
      "  (2, 0)\t3\n"
     ]
    }
   ],
   "source": [
    "from scipy import sparse\n",
    "\n",
    "A = np.array([\n",
    "    [0, 0, 0, 0, 0, 0, 0, 0, 0, 0], \n",
    "    [0, 1, 0, 0, 0, 0, 0, 0, 0, 0], \n",
    "    [3, 0, 0, 0, 0, 0, 0, 0, 0, 0], \n",
    "])\n",
    "B = sparse.csr_matrix(A)\n",
    "print(B)"
   ]
  },
  {
   "attachments": {},
   "cell_type": "markdown",
   "metadata": {},
   "source": [
    "### Matrix / Vectorize\n",
    "\n",
    "Vectorization is used to `speed` up the Python code without using loop.  \n",
    "Insteed of opertating on a single value at a time, it operates on a `set of value` (vector) at a time. \n",
    "[<u>more details</u>](https://www.geeksforgeeks.org/vectorization-in-python/)"
   ]
  },
  {
   "cell_type": "code",
   "execution_count": 28,
   "metadata": {},
   "outputs": [
    {
     "name": "stdout",
     "output_type": "stream",
     "text": [
      "[[101 102 103]\n",
      " [104 105 106]\n",
      " [107 108 109]]\n"
     ]
    }
   ],
   "source": [
    "A = np.array([\n",
    "    [1, 2, 3],\n",
    "    [4, 5, 6],\n",
    "    [7, 8, 9],\n",
    "])\n",
    "B = np.vectorize(lambda x: x + 100)(A)\n",
    "print(B)"
   ]
  },
  {
   "attachments": {},
   "cell_type": "markdown",
   "metadata": {},
   "source": [
    "### Broadcasting\n",
    "\n",
    "Broascasting allows Numpy to handle arrays of `different` shapes during arithmetic operations."
   ]
  },
  {
   "cell_type": "code",
   "execution_count": 18,
   "metadata": {},
   "outputs": [
    {
     "name": "stdout",
     "output_type": "stream",
     "text": [
      "[[101 102 103]\n",
      " [104 105 106]\n",
      " [107 108 109]]\n"
     ]
    }
   ],
   "source": [
    "A = np.array([\n",
    "    [1, 2, 3],\n",
    "    [4, 5, 6],\n",
    "    [7, 8, 9],\n",
    "])\n",
    "B = A + 100\n",
    "print(B)"
   ]
  },
  {
   "attachments": {},
   "cell_type": "markdown",
   "metadata": {},
   "source": [
    "### Text / Vectorizer\n",
    "\n",
    "We can represent `texts` as vectors and count word frequency. \n",
    "[<u>more details</u>](https://medium.com/@sumanadhikari/building-a-movie-recommendation-engine-using-scikit-learn-8dbb11c5aa4b)"
   ]
  },
  {
   "cell_type": "code",
   "execution_count": 19,
   "metadata": {},
   "outputs": [
    {
     "name": "stdout",
     "output_type": "stream",
     "text": [
      "A vectorized =\n",
      "  (0, 0)\t2\n",
      "  (0, 1)\t1\n",
      "  (1, 0)\t1\n",
      "  (1, 1)\t2\n",
      "A toarray() =\n",
      "[[2 1]\n",
      " [1 2]]\n"
     ]
    }
   ],
   "source": [
    "from sklearn.feature_extraction.text import CountVectorizer\n",
    "\n",
    "A = ['London Paris London', 'Paris Paris London']\n",
    "\n",
    "vectorizer = CountVectorizer()\n",
    "A = vectorizer.fit_transform(A)\n",
    "\n",
    "print(\"A vectorized =\"); print(A)\n",
    "print(\"A toarray() =\"); print(A.toarray())"
   ]
  },
  {
   "attachments": {},
   "cell_type": "markdown",
   "metadata": {},
   "source": [
    "### Matrix / Axes Operations\n",
    "\n",
    "We can apply operations along the `axes` (rows or columns).\n"
   ]
  },
  {
   "cell_type": "code",
   "execution_count": 20,
   "metadata": {},
   "outputs": [
    {
     "name": "stdout",
     "output_type": "stream",
     "text": [
      "max(A) = 9\n",
      "min(A) = 1\n",
      "mean(A) = 5.0\n",
      "Max in each row = [3 6 9]\n",
      "Max in each col = [7 8 9]\n"
     ]
    }
   ],
   "source": [
    "A = np.array([\n",
    "    [1, 2, 3],\n",
    "    [4, 5, 6],\n",
    "    [7, 8, 9],\n",
    "])\n",
    "\n",
    "max_value = np.max(A)\n",
    "min_value = np.min(A)\n",
    "avg_value = np.mean(A)\n",
    "max_in_each_row = np.max(A, axis=1)\n",
    "max_in_each_col = np.max(A, axis=0)\n",
    "\n",
    "print(\"max(A) =\", max_value)\n",
    "print(\"min(A) =\", min_value)\n",
    "print(\"mean(A) =\", avg_value) \n",
    "print(\"Max in each row =\", max_in_each_row)\n",
    "print(\"Max in each col =\", max_in_each_col)"
   ]
  },
  {
   "attachments": {},
   "cell_type": "markdown",
   "metadata": {},
   "source": [
    "### Addition\n",
    "\n",
    "For matrices addition simply use `+ operator`."
   ]
  },
  {
   "cell_type": "code",
   "execution_count": 21,
   "metadata": {},
   "outputs": [
    {
     "name": "stdout",
     "output_type": "stream",
     "text": [
      "[[2 2]\n",
      " [5 5]]\n"
     ]
    }
   ],
   "source": [
    "A = np.array([\n",
    "    [1, 1],\n",
    "    [2, 2],\n",
    "])\n",
    "B = np.array([\n",
    "    [1, 1],\n",
    "    [3, 3],\n",
    "])\n",
    "C = A + B\n",
    "\n",
    "print(C)"
   ]
  },
  {
   "attachments": {},
   "cell_type": "markdown",
   "metadata": {},
   "source": [
    "### Multiplication\n",
    "\n",
    "For element wise multiplication use `* operator`. &nbsp; [<u>more detail</u>](https://www.mathsisfun.com/algebra/matrix-multiplying.html), [<u>more details 2</u>](https://mkang32.github.io/python/2020/08/30/numpy-matmul.html)"
   ]
  },
  {
   "cell_type": "code",
   "execution_count": 22,
   "metadata": {},
   "outputs": [
    {
     "name": "stdout",
     "output_type": "stream",
     "text": [
      "[[1 1]\n",
      " [6 6]]\n",
      "[[4 4]\n",
      " [8 8]]\n"
     ]
    }
   ],
   "source": [
    "A = np.array([\n",
    "    [1, 1],\n",
    "    [2, 2],\n",
    "])\n",
    "B = np.array([\n",
    "    [1, 1],\n",
    "    [3, 3],\n",
    "])\n",
    "\n",
    "C = A * B\n",
    "D = A @ B\n",
    "\n",
    "print(C)\n",
    "print(D)"
   ]
  },
  {
   "attachments": {},
   "cell_type": "markdown",
   "metadata": {},
   "source": [
    "### Reshape\n",
    "\n",
    "Reshape `maintain` the data but as different numbers of rows and columns."
   ]
  },
  {
   "cell_type": "code",
   "execution_count": 23,
   "metadata": {},
   "outputs": [
    {
     "name": "stdout",
     "output_type": "stream",
     "text": [
      "Reshape(2, 6) = \n",
      "[[ 1  2  3  4  5  6]\n",
      " [ 7  8  9 10 11 12]]\n",
      "Reshape(1, -1) =\n",
      "[[ 1  2  3  4  5  6  7  8  9 10 11 12]]\n",
      "Flatten =\n",
      "[ 1  2  3  4  5  6  7  8  9 10 11 12]\n"
     ]
    }
   ],
   "source": [
    "A = np.array([\n",
    "    [1, 2, 3],\n",
    "    [4, 5, 6],\n",
    "    [7, 8, 9],\n",
    "    [10, 11, 12],\n",
    "])\n",
    "\n",
    "B = A.reshape(2, 6)     # same dimension as original matrix\n",
    "C = A.reshape(1, -1)    # -1 means 'as many as needed'\n",
    "D = A.flatten()         # transform the matrix in vector (one-dimensional array)\n",
    "\n",
    "print(\"Reshape(2, 6) = \");  print(B)\n",
    "print(\"Reshape(1, -1) =\");  print(C)\n",
    "print(\"Flatten =\");         print(D)"
   ]
  },
  {
   "attachments": {},
   "cell_type": "markdown",
   "metadata": {},
   "source": [
    "### Transpose\n",
    "\n",
    "The transpose of a matrix is simply a `flipped version` of the original matrix. [<u>more details</u>](https://mathinsight.org/matrix_transpose)"
   ]
  },
  {
   "cell_type": "code",
   "execution_count": 24,
   "metadata": {},
   "outputs": [
    {
     "data": {
      "text/plain": [
       "array([[1, 4, 7],\n",
       "       [2, 5, 8],\n",
       "       [3, 6, 9]])"
      ]
     },
     "execution_count": 24,
     "metadata": {},
     "output_type": "execute_result"
    }
   ],
   "source": [
    "A = np.array([\n",
    "    [1, 2, 3],\n",
    "    [4, 5, 6],\n",
    "    [7, 8, 9],\n",
    "])\n",
    "B = A.T\n",
    "B"
   ]
  },
  {
   "attachments": {},
   "cell_type": "markdown",
   "metadata": {},
   "source": [
    "### Inverse\n",
    "\n",
    "$\n",
    "    AA^{-1} = I\n",
    "$\n",
    "\n",
    "When A is multiply with the `inverse` matrix the result is `identity` matrix. [<u>more details</u>](http://www.mathwords.com/i/inverse_of_a_matrix.htm) "
   ]
  },
  {
   "cell_type": "code",
   "execution_count": 25,
   "metadata": {},
   "outputs": [
    {
     "name": "stdout",
     "output_type": "stream",
     "text": [
      "[[4 3]\n",
      " [3 2]]\n",
      "[[-2.  3.]\n",
      " [ 3. -4.]]\n",
      "[[1. 0.]\n",
      " [0. 1.]]\n"
     ]
    }
   ],
   "source": [
    "A = np.array([\n",
    "    [4, 3],\n",
    "    [3, 2],\n",
    "])\n",
    "I = np.array([\n",
    "    [1, 0],\n",
    "    [0, 1],\n",
    "])\n",
    "B = np.linalg.inv(A) # inverse\n",
    "\n",
    "assert (A @ B == I) .all() # all matrix elements are equals\n",
    "assert (B @ A == I) .all() # order of matrices multiplication doesn't matter\n",
    "print(A)\n",
    "print(B)\n",
    "print(A @ B)"
   ]
  },
  {
   "attachments": {},
   "cell_type": "markdown",
   "metadata": {},
   "source": [
    "### Data / Variance\n",
    "\n",
    "$\n",
    "    σ^2 = Σ (xi – μ)^2 / N \n",
    "$\n",
    "\n",
    "Variance is a measure of the `spread` of the data. [<u>more details</u>](https://www.statology.org/sample-variance-vs-population-variance/)"
   ]
  },
  {
   "cell_type": "code",
   "execution_count": 26,
   "metadata": {},
   "outputs": [
    {
     "name": "stdout",
     "output_type": "stream",
     "text": [
      "A_variance =  6.67\n",
      "B_variance =  79206.67\n",
      "np.var(A) =  6.67\n",
      "np.var(B) =  79206.67\n"
     ]
    }
   ],
   "source": [
    "A = np.array([\n",
    "    [1, 2, 3],\n",
    "    [4, 5, 6],\n",
    "    [7, 8, 9],\n",
    "])\n",
    "B = np.array([\n",
    "    [1, 2, 3],\n",
    "    [4, 5, 6],\n",
    "    [7, 8, 900], # Look Here\n",
    "])\n",
    "\n",
    "# Algorithm\n",
    "def population_variance(X):\n",
    "    N = X.size\n",
    "    avg = np.mean(X)\n",
    "    variance = (1/N) * np.sum((X - avg)**2)\n",
    "    return variance\n",
    "\n",
    "A_variance = population_variance(A)\n",
    "B_variance = population_variance(B)\n",
    "\n",
    "assert B_variance > A_variance\n",
    "print(\"A_variance = \", A_variance.round(2))\n",
    "print(\"B_variance = \", B_variance.round(2))\n",
    "print(\"np.var(A) = \",  np.var(A).round(2)) # build-in\n",
    "print(\"np.var(B) = \",  np.var(B).round(2))\n"
   ]
  },
  {
   "attachments": {},
   "cell_type": "markdown",
   "metadata": {},
   "source": [
    "### Data / Standard Deviation\n",
    "\n",
    "$\n",
    "    σ^2 = \\sqrt{Σ (xi – μ)^2 / N} \n",
    "$\n",
    "\n",
    "Standard deviation is `more intuitive` than variance, as it is expressed in the same units as data. [more details](https://www.khanacademy.org/math/statistics-probability/summarizing-quantitative-data/variance-standard-deviation-population/a/calculating-standard-deviation-step-by-step)"
   ]
  },
  {
   "cell_type": "code",
   "execution_count": 27,
   "metadata": {},
   "outputs": [
    {
     "name": "stdout",
     "output_type": "stream",
     "text": [
      "A standard deviation = 2.58\n",
      "B standard deviation = 281.44\n",
      "np.std(A) = 2.58\n",
      "np.std(B) = 281.44\n"
     ]
    }
   ],
   "source": [
    "A = np.array([\n",
    "    [1, 2, 3],\n",
    "    [4, 5, 6],\n",
    "    [7, 8, 9],\n",
    "])\n",
    "B = np.array([\n",
    "    [1, 2, 3],\n",
    "    [4, 5, 6],\n",
    "    [7, 8, 900],\n",
    "])\n",
    "\n",
    "# Algorithm\n",
    "def population_variance(X):\n",
    "    N = X.size\n",
    "    avg = np.mean(X)\n",
    "    variance = (1/N) * np.sum((X - avg)**2)\n",
    "    return variance\n",
    "\n",
    "def standard_deviation(X):\n",
    "    return np.sqrt(population_variance(X))\n",
    "\n",
    "A_std = standard_deviation(A)\n",
    "B_std = standard_deviation(B)\n",
    "\n",
    "assert B_std > A_std\n",
    "print(\"A standard deviation =\", A_std.round(2)) # build-in\n",
    "print(\"B standard deviation =\", B_std.round(2))\n",
    "print(\"np.std(A) =\", np.std(A).round(2))\n",
    "print(\"np.std(B) =\", np.std(B).round(2))"
   ]
  }
 ],
 "metadata": {
  "kernelspec": {
   "display_name": "Python 3",
   "language": "python",
   "name": "python3"
  },
  "language_info": {
   "codemirror_mode": {
    "name": "ipython",
    "version": 3
   },
   "file_extension": ".py",
   "mimetype": "text/x-python",
   "name": "python",
   "nbconvert_exporter": "python",
   "pygments_lexer": "ipython3",
   "version": "3.9.7"
  },
  "orig_nbformat": 4
 },
 "nbformat": 4,
 "nbformat_minor": 2
}
