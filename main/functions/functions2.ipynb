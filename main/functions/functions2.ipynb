{
 "cells": [
  {
   "cell_type": "markdown",
   "metadata": {},
   "source": [
    "### Object"
   ]
  },
  {
   "cell_type": "code",
   "execution_count": 1,
   "metadata": {},
   "outputs": [
    {
     "name": "stdout",
     "output_type": "stream",
     "text": [
      "['Alabama', 'Georgia', 'Georgia', 'Georgia', 'Florida', 'South Carolina']\n",
      "['Alabama', 'Georgia', 'Georgia', 'Georgia', 'Florida', 'South Carolina']\n"
     ]
    }
   ],
   "source": [
    "\"\"\" In Python, all functions are objects  \n",
    "    We can easily express constructors difficult to do in other languages\n",
    "\"\"\"\n",
    "\n",
    "import re\n",
    "states = [' Alabama', 'Georgia!', 'Georgia', 'georgia', 'FlOrIda?', 'south carolina##']\n",
    "\n",
    "\n",
    "\"\"\" Standard approach, applying operations to items\n",
    "\"\"\"\n",
    "\n",
    "def clear_strings(A):\n",
    "    result = []\n",
    "    for v in A:\n",
    "        v = v.strip()\n",
    "        v = re.sub('[!#?]', '', v)\n",
    "        v = v.title()\n",
    "        result.append(v)\n",
    "    return result\n",
    "\n",
    "B = clear_strings(states)\n",
    "print(B)\n",
    "\n",
    "\n",
    "\"\"\" Using a list of opperations, you can easily modify at a very high level\n",
    "\"\"\"\n",
    "\n",
    "def remove_punctuation(value):\n",
    "    return re.sub('[!#?]', '', value)\n",
    "\n",
    "def clear_strings_ops(A, ops):\n",
    "    result = []\n",
    "    for v in A:\n",
    "        for func in ops:\n",
    "            v = func(v)\n",
    "        result.append(v)\n",
    "    return result\n",
    "\n",
    "B = clear_strings_ops(states, [str.strip, remove_punctuation, str.title])\n",
    "print(B)"
   ]
  },
  {
   "cell_type": "markdown",
   "metadata": {},
   "source": [
    "### Lambda"
   ]
  },
  {
   "cell_type": "code",
   "execution_count": 8,
   "metadata": {},
   "outputs": [
    {
     "name": "stdout",
     "output_type": "stream",
     "text": [
      "4\n",
      "6\n",
      "['aaaa', 'foo', 'bar', 'card']\n"
     ]
    }
   ],
   "source": [
    "\"\"\" Lambda (or anonymous) functions are used for writing single statement  \n",
    "    The result of a lambda function is the return value\n",
    "    It is often less typing (and clearer) to pass a lamda function as opposed to a function\n",
    "\"\"\"\n",
    "\n",
    "def h(x):\n",
    "    return x*2\n",
    "print(h(2))\n",
    "\n",
    "h = lambda x: x*2\n",
    "print(h(3))\n",
    "\n",
    "# Usage example: Sort by the number of distinc letters\n",
    "S = ['foo', 'card', 'bar', 'aaaa']\n",
    "S.sort(key=lambda x: len(set(x)))\n",
    "print(S)"
   ]
  }
 ],
 "metadata": {
  "kernelspec": {
   "display_name": "Python 3",
   "language": "python",
   "name": "python3"
  },
  "language_info": {
   "codemirror_mode": {
    "name": "ipython",
    "version": 3
   },
   "file_extension": ".py",
   "mimetype": "text/x-python",
   "name": "python",
   "nbconvert_exporter": "python",
   "pygments_lexer": "ipython3",
   "version": "3.9.7"
  }
 },
 "nbformat": 4,
 "nbformat_minor": 2
}
