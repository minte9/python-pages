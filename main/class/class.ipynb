{
 "cells": [
  {
   "cell_type": "markdown",
   "metadata": {},
   "source": [
    "### Definition"
   ]
  },
  {
   "cell_type": "code",
   "execution_count": 10,
   "metadata": {},
   "outputs": [
    {
     "name": "stdout",
     "output_type": "stream",
     "text": [
      "(1, 1)\n"
     ]
    }
   ],
   "source": [
    "\"\"\" Class definition\n",
    "    A programmer-defined type is also called a class.\n",
    "    A class definition cannot be empty.\n",
    "\"\"\"\n",
    "\n",
    "class Point:\n",
    "    \"\"\" a 2D point \"\"\" # body is a docstring comment\n",
    "\n",
    "class Point:\n",
    "    def get():\n",
    "        return (1, 1) # tuple\n",
    "\n",
    "print(Point.get())"
   ]
  },
  {
   "cell_type": "markdown",
   "metadata": {},
   "source": [
    "### Objects"
   ]
  },
  {
   "cell_type": "code",
   "execution_count": 41,
   "metadata": {},
   "outputs": [
    {
     "name": "stdout",
     "output_type": "stream",
     "text": [
      "(1, 1)\n"
     ]
    }
   ],
   "source": [
    "\"\"\" A class is like a factory for creating objects (instances)\n",
    "    Because Point is defined at top level, its full name is __main__.Point\n",
    "    By convention, the first parameter of a method is called self\n",
    "\"\"\"\n",
    "\n",
    "class Point:\n",
    "    \"\"\" a 2D point \"\"\"\n",
    "\n",
    "class Point:\n",
    "    def get(self):\n",
    "        return (1, 1)\n",
    "\n",
    "p = Point()\n",
    "print(p.get())"
   ]
  },
  {
   "cell_type": "markdown",
   "metadata": {},
   "source": [
    "### Attributes"
   ]
  },
  {
   "cell_type": "code",
   "execution_count": 40,
   "metadata": {},
   "outputs": [
    {
     "data": {
      "text/plain": [
       "5.0"
      ]
     },
     "execution_count": 40,
     "metadata": {},
     "output_type": "execute_result"
    }
   ],
   "source": [
    "\"\"\" You can assign values to an instance using dot notation\n",
    "\"\"\"\n",
    "\n",
    "import math\n",
    "\n",
    "class Point:\n",
    "    \"\"\" a 2D point \"\"\"\n",
    "\n",
    "a = Point()\n",
    "a.x = 0\n",
    "a.y = 0\n",
    "\n",
    "b = Point()\n",
    "b.x = 3\n",
    "b.y = 4\n",
    "\n",
    "def distance_between_points(A, B):\n",
    "    dx = (B.x - A.x)**2\n",
    "    dy = (B.y - A.y)**2\n",
    "    return math.sqrt(dx + dy)\n",
    "\n",
    "distance_between_points(a, b)"
   ]
  },
  {
   "cell_type": "markdown",
   "metadata": {},
   "source": [
    "### Methods"
   ]
  },
  {
   "cell_type": "code",
   "execution_count": 46,
   "metadata": {},
   "outputs": [
    {
     "name": "stdout",
     "output_type": "stream",
     "text": [
      "09:45:00\n"
     ]
    }
   ],
   "source": [
    "\"\"\" Methods are the same as functions but defined inside the class\n",
    "    Invoking a method is different from calling a function\n",
    "\"\"\"\n",
    "\n",
    "class Time: \n",
    "    def print(self):\n",
    "        print('%.2d:%.2d:%.2d' % \n",
    "            (self.hour, self.minute, self.second)\n",
    "        )\n",
    "\n",
    "A = Time()\n",
    "A.hour = 9\n",
    "A.minute = 45\n",
    "A.second = 0\n",
    "\n",
    "Time.print(A)"
   ]
  },
  {
   "cell_type": "markdown",
   "metadata": {},
   "source": [
    "### Special methods"
   ]
  },
  {
   "cell_type": "code",
   "execution_count": 48,
   "metadata": {},
   "outputs": [
    {
     "name": "stdout",
     "output_type": "stream",
     "text": [
      "09:30:00\n"
     ]
    }
   ],
   "source": [
    "\"\"\" Special methods allows your classes to interact with built-in Python \n",
    "    Method __init__ gets invoked when an object is instantiated\n",
    "    Method __str__ returns a string representation of an object\n",
    "\"\"\"\n",
    "\n",
    "class Time:\n",
    "    def __init__(self, h=0, m=0, s=0):\n",
    "        self.h = h\n",
    "        self.m = m\n",
    "        self.s = s\n",
    "\n",
    "    def __str__(self):\n",
    "        return '%.2d:%.2d:%.2d' % (self.h, self.m, self.s)\n",
    "\n",
    "A = Time(9, 30)\n",
    "print(A)"
   ]
  },
  {
   "cell_type": "markdown",
   "metadata": {},
   "source": [
    "### Function arguments"
   ]
  },
  {
   "cell_type": "code",
   "execution_count": 1,
   "metadata": {},
   "outputs": [
    {
     "name": "stdout",
     "output_type": "stream",
     "text": [
      "(1, 2)\n"
     ]
    }
   ],
   "source": [
    "\"\"\" You can pass a class instance as an argument to functions\n",
    "\"\"\"\n",
    "\n",
    "class Point:\n",
    "    \"\"\" a 2D point \"\"\"\n",
    "\n",
    "p = Point()\n",
    "p.x = 1\n",
    "p.y = 2\n",
    "\n",
    "def display(obj):\n",
    "    print('(%s, %s)' % (obj.x, obj.y))\n",
    "\n",
    "display(p)\n"
   ]
  },
  {
   "cell_type": "markdown",
   "metadata": {},
   "source": [
    "### Functional programming"
   ]
  },
  {
   "cell_type": "code",
   "execution_count": 64,
   "metadata": {},
   "outputs": [
    {
     "name": "stdout",
     "output_type": "stream",
     "text": [
      "10.0\n"
     ]
    }
   ],
   "source": [
    "\"\"\" A pure function does not modify any of the objects passed and ...\n",
    "    has no side effects, like displaying a value or getting an input\n",
    "\"\"\"\n",
    "\n",
    "class Hour:\n",
    "    \"\"\" Represents the day time\n",
    "        attributes: hour\n",
    "    \"\"\"\n",
    "\n",
    "def hour_increment_impure(t, d):\n",
    "    obj = Hour()\n",
    "    obj.hour = t.hour + int(d.hour) # side effects\n",
    "    return obj\n",
    "    \n",
    "start = Hour()\n",
    "start.hour = 9.0\n",
    "\n",
    "duration = Hour()\n",
    "duration.hour = 1.5\n",
    "\n",
    "end = hour_increment_impure(start, duration)\n",
    "\n",
    "print(end.hour)  # Wrong (it should be 10.5)"
   ]
  },
  {
   "cell_type": "markdown",
   "metadata": {},
   "source": [
    "### Modifiers"
   ]
  },
  {
   "cell_type": "code",
   "execution_count": 19,
   "metadata": {},
   "outputs": [
    {
     "name": "stdout",
     "output_type": "stream",
     "text": [
      "09:45:20\n",
      "00:02:40\n"
     ]
    }
   ],
   "source": [
    "\"\"\" Functions that modifiy the objects are called modifiers\n",
    "    Pure functions are faster to develop and less error-prone\n",
    "    Modifiers are convenient at times and efficient\n",
    "\"\"\"\n",
    "\n",
    "class Time: \n",
    "    \"\"\" Represents the day time\n",
    "        attributes: hour, minutes, seconds\n",
    "    \"\"\"\n",
    "    def __init__(self):\n",
    "        self.hour = 0\n",
    "        self.minutes = 0\n",
    "        self.seconds = 0\n",
    "\n",
    "def increment(t, seconds): # modifier\n",
    "    t.seconds = t.seconds + seconds\n",
    "\n",
    "def increment_pure(t, seconds): # pure\n",
    "    \n",
    "    # Quotient and the remainder of division\n",
    "    minutes, t.seconds = divmod(seconds, 60)  \n",
    "    hour, t.minutes = divmod(minutes, 60)\n",
    "    t.hour = hour\n",
    "    return t\n",
    "\n",
    "\n",
    "t = Time()\n",
    "t.hour = 9\n",
    "t.minutes = 45\n",
    "t.seconds = 0\n",
    "\n",
    "increment(t, 20)\n",
    "print('%.2d:%.2d:%.2d' % (t.hour, t.minutes, t.seconds)) \n",
    "\n",
    "t = increment_pure(t, 160)\n",
    "print('%.2d:%.2d:%.2d' % (t.hour, t.minutes, t.seconds))\n"
   ]
  }
 ],
 "metadata": {
  "kernelspec": {
   "display_name": "Python 3",
   "language": "python",
   "name": "python3"
  },
  "language_info": {
   "codemirror_mode": {
    "name": "ipython",
    "version": 3
   },
   "file_extension": ".py",
   "mimetype": "text/x-python",
   "name": "python",
   "nbconvert_exporter": "python",
   "pygments_lexer": "ipython3",
   "version": "3.9.7"
  }
 },
 "nbformat": 4,
 "nbformat_minor": 2
}
