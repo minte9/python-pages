{
 "cells": [
  {
   "attachments": {},
   "cell_type": "markdown",
   "metadata": {},
   "source": [
    "### Icecream / Package\n",
    "\n",
    "IceCream is a Python library that makes `debugging easier` and more efficient."
   ]
  },
  {
   "cell_type": "code",
   "execution_count": null,
   "metadata": {},
   "outputs": [],
   "source": [
    "%pip install icecream"
   ]
  },
  {
   "attachments": {},
   "cell_type": "markdown",
   "metadata": {},
   "source": [
    "###  Debugging / Example\n",
    "\n",
    "With arguments, ic() inspects itself and prints `both` arguments and the values.  \n",
    "Just give ic() a variable or `expression` and you are done.  "
   ]
  },
  {
   "cell_type": "code",
   "execution_count": 27,
   "metadata": {},
   "outputs": [
    {
     "name": "stderr",
     "output_type": "stream",
     "text": [
      "ic| sum(2,3): 5\n",
      "ic| dict: {'a': 1}\n"
     ]
    }
   ],
   "source": [
    "from icecream import ic\n",
    "\n",
    "def sum(x, y):\n",
    "    return x + y\n",
    "\n",
    "dict = {'a': 1}\n",
    "\n",
    "ic(sum(2,3))\n",
    "ic(dict);"
   ]
  },
  {
   "attachments": {},
   "cell_type": "markdown",
   "metadata": {},
   "source": [
    "### Without Arguments\n",
    "\n",
    "Without argumenst, ic() inspects itself and prints `filename`, line number and parent function.  \n",
    "Jupyter doesn't output a new line with the value automatically, if we add a `semicolon`.  "
   ]
  },
  {
   "cell_type": "code",
   "execution_count": 25,
   "metadata": {},
   "outputs": [
    {
     "name": "stderr",
     "output_type": "stream",
     "text": [
      "ic| 3877364280.py:2 in myfunction() at 10:24:00.200\n"
     ]
    }
   ],
   "source": [
    "def myfunction():\n",
    "    ic()\n",
    "    \n",
    "    return True\n",
    "    \n",
    "myfunction();  # semicolon at the end"
   ]
  },
  {
   "attachments": {},
   "cell_type": "markdown",
   "metadata": {},
   "source": [
    "### Disable Icecream\n",
    "\n",
    "We can temporary `disable` ic(), and later re-enable."
   ]
  },
  {
   "cell_type": "code",
   "execution_count": 11,
   "metadata": {},
   "outputs": [
    {
     "name": "stderr",
     "output_type": "stream",
     "text": [
      "ic| 1\n",
      "ic| 3\n"
     ]
    }
   ],
   "source": [
    "ic(1)\n",
    "\n",
    "ic.disable(); ic(2)\n",
    "ic.enable(); ic(3);"
   ]
  },
  {
   "attachments": {},
   "cell_type": "markdown",
   "metadata": {},
   "source": [
    "### References\n",
    "\n",
    "https://github.com/gruns/icecream   \n",
    "https://www.youtube.com/watch?v=JJ9zZ8cyaEk&ab_channel=NeuralNine  \n",
    "https://levelup.gitconnected.com/5-useful-python-libraries-you-should-use-in-your-projects-39df661dd70a    \n"
   ]
  }
 ],
 "metadata": {
  "kernelspec": {
   "display_name": "Python 3",
   "language": "python",
   "name": "python3"
  },
  "language_info": {
   "codemirror_mode": {
    "name": "ipython",
    "version": 3
   },
   "file_extension": ".py",
   "mimetype": "text/x-python",
   "name": "python",
   "nbconvert_exporter": "python",
   "pygments_lexer": "ipython3",
   "version": "3.9.7"
  },
  "orig_nbformat": 4
 },
 "nbformat": 4,
 "nbformat_minor": 2
}
