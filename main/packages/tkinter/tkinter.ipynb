{
 "cells": [
  {
   "cell_type": "markdown",
   "metadata": {},
   "source": [
    "## Window\n",
    "\n",
    "A window is an `instance` of Tkinter class."
   ]
  },
  {
   "cell_type": "code",
   "execution_count": 2,
   "metadata": {},
   "outputs": [],
   "source": [
    "import tkinter as tk\n",
    "\n",
    "window = tk.Tk()\n",
    "window.mainloop() # run Tkinter event loop"
   ]
  },
  {
   "cell_type": "markdown",
   "metadata": {},
   "source": [
    "## Widgets\n",
    "\n",
    "Create and `add widgets` to the window."
   ]
  },
  {
   "cell_type": "code",
   "execution_count": null,
   "metadata": {},
   "outputs": [],
   "source": [
    "import tkinter as tk\n",
    "\n",
    "window = tk.Tk()\n",
    "\n",
    "label = tk.Label(text=\"Hello World!\", fg='white', bg='#34A2FE', width=100, height=20)\n",
    "label.pack() # add to window\n",
    "\n",
    "button = tk.Button(text=\"Submit\", width=25, height=2)\n",
    "button.pack()\n",
    "\n",
    "entry = tk.Entry(width=50)\n",
    "entry.pack()\n",
    "\n",
    "window.mainloop()"
   ]
  },
  {
   "cell_type": "markdown",
   "metadata": {},
   "source": [
    "## Frames\n",
    "\n",
    "Frame widgets are important for organizing the `layout` of your widgets.\n"
   ]
  },
  {
   "cell_type": "code",
   "execution_count": null,
   "metadata": {},
   "outputs": [],
   "source": [
    "import tkinter as tk\n",
    "\n",
    "window = tk.Tk()\n",
    "\n",
    "frame1 = tk.Frame()\n",
    "frame2 = tk.Frame()\n",
    "\n",
    "label = tk.Label(text=\"Hello World!\", master=frame1)\n",
    "label.pack() # add to window\n",
    "\n",
    "button = tk.Button(text=\"Submit\", master=frame2)\n",
    "button.pack()\n",
    "\n",
    "entry = tk.Entry(width=50, master=frame1) # will be on top of the button (frame2)\n",
    "entry.pack()\n",
    "\n",
    "frame1.pack()\n",
    "frame2.pack()\n",
    "\n",
    "window.mainloop()"
   ]
  },
  {
   "cell_type": "markdown",
   "metadata": {},
   "source": [
    "## Layout\n",
    "\n",
    "The `side` keyword argument of .pack() specify where the widget should be placed."
   ]
  },
  {
   "cell_type": "code",
   "execution_count": null,
   "metadata": {},
   "outputs": [],
   "source": [
    "from tkinter import *\n",
    "\n",
    "window = Tk()\n",
    "\n",
    "frame1 = Frame()\n",
    "frame2 = Frame()\n",
    "\n",
    "label = Label(text=\"Hello World!\", master=frame1)\n",
    "label.pack() # add to window\n",
    "\n",
    "entry = Entry(width=50, master=frame2)\n",
    "entry.pack(side=LEFT) # Look Here\n",
    "\n",
    "button = Button(text=\"Submit\", master=frame2)\n",
    "button.pack(side=RIGHT)\n",
    "\n",
    "frame1.pack()\n",
    "frame2.pack()\n",
    "\n",
    "window.mainloop()"
   ]
  },
  {
   "cell_type": "markdown",
   "metadata": {},
   "source": [
    "## Geometry Manager\n",
    "\n",
    "We use `geometry` method to set a fixed window size."
   ]
  },
  {
   "cell_type": "code",
   "execution_count": null,
   "metadata": {},
   "outputs": [],
   "source": [
    "from tkinter import *\n",
    "\n",
    "window = Tk()\n",
    "window.geometry(\"500x200\")\n",
    "\n",
    "frame = Frame()\n",
    "frame.pack()\n",
    "\n",
    "label = Label(text=\"Login\", master=frame, width=10)\n",
    "entry = Entry(width=20, master=frame)\n",
    "button = Button(text=\"Submit\", master=frame)\n",
    "\n",
    "label.pack(side=LEFT)\n",
    "entry.pack(side=LEFT)\n",
    "button.pack(side=RIGHT)\n",
    "\n",
    "frame.pack()\n",
    "window.mainloop()"
   ]
  },
  {
   "cell_type": "markdown",
   "metadata": {},
   "source": [
    "## Event Handler\n",
    "\n",
    "During the `event loop` (window.mainloop) the applications check if an event has occured."
   ]
  },
  {
   "cell_type": "code",
   "execution_count": null,
   "metadata": {},
   "outputs": [],
   "source": [
    "from tkinter import *\n",
    "\n",
    "window = Tk()\n",
    "window.geometry(\"500x200\")\n",
    "\n",
    "frame = Frame()\n",
    "frame.pack()\n",
    "\n",
    "label = Label(text=\"Login\", master=frame, width=10)\n",
    "entry = Entry(width=20, master=frame)\n",
    "button = Button(text=\"Submit\", master=frame)\n",
    "\n",
    "label.pack(side=LEFT)\n",
    "entry.pack(side=LEFT)\n",
    "button.pack(side=RIGHT)\n",
    "\n",
    "def handle_click(event):\n",
    "    print(\"Button clicked!\")\n",
    "    label['text'] = \"Button clicked!\"\n",
    "\n",
    "button.bind(\"<Button-1>\", handle_click) # <Button-2>\" for middle mouse button\n",
    "\n",
    "frame.pack()\n",
    "window.mainloop()"
   ]
  },
  {
   "cell_type": "markdown",
   "metadata": {},
   "source": [
    "## Converter\n",
    "\n",
    "Convert `Fahreinheit` to Celsius and insert it into result lablel."
   ]
  },
  {
   "cell_type": "code",
   "execution_count": null,
   "metadata": {},
   "outputs": [],
   "source": [
    "from tkinter import *\n",
    "\n",
    "# Conversion function\n",
    "def my_function():\n",
    "    fahrenheit = E.get()\n",
    "    celsius = (5 / 9) * (float(fahrenheit) - 32)\n",
    "    C['text'] = str(round(celsius, 1)) + \" C\"\n",
    "\n",
    "# Set up window\n",
    "window = Tk()\n",
    "window.title(\"Temperature Converter\")\n",
    "frame = Frame(padx=20, pady=20)\n",
    "frame.pack()\n",
    "\n",
    "# Set up widgets\n",
    "F = Label(text=\"Fahrenheit\", master=frame, padx=5)\n",
    "E = Entry(width=10, master=frame)\n",
    "B = Button(text=\"Convert to Celsius\", master=frame, width=20, command=my_function)\n",
    "C = Label(master=frame, padx=5)\n",
    "\n",
    "# Set up the layout using the .grid() geometry manager\n",
    "F.grid(row=0, column=0, padx=10)\n",
    "E.grid(row=0, column=1, pady=10)\n",
    "B.grid(row=0, column=2, padx=10)\n",
    "C.grid(row=1, column=2, padx=10)\n",
    "\n",
    "# Run application\n",
    "window.mainloop()"
   ]
  },
  {
   "cell_type": "markdown",
   "metadata": {},
   "source": [
    "## Converter / v2\n",
    "\n",
    "Trigger the event when the `Enter` key is pressed.  "
   ]
  },
  {
   "cell_type": "code",
   "execution_count": null,
   "metadata": {},
   "outputs": [],
   "source": [
    "from tkinter import *\n",
    "\n",
    "# Conversion function\n",
    "def convert_to_celsius():\n",
    "    fahrenheit = E.get()\n",
    "    celsius = (float(fahrenheit) - 32) * 5 / 9\n",
    "    C['text'] = str(round(celsius, 1)) + \" C\"\n",
    "\n",
    "# Function to handle Enter key press\n",
    "def on_enter(event):\n",
    "    convert_to_celsius()\n",
    "\n",
    "# Set up window\n",
    "window = Tk()\n",
    "window.title(\"Temperature Converter\")\n",
    "frame = Frame(padx=20, pady=20)\n",
    "frame.pack()\n",
    "\n",
    "# Set up widgets\n",
    "F = Label(text=\"Fahrenheit\", master=frame, padx=5)\n",
    "E = Entry(width=10, master=frame)\n",
    "B = Button(text=\"Convert to Celsius\", master=frame, width=20, command=my_function)\n",
    "C = Label(master=frame, padx=5)\n",
    "\n",
    "# Set up the layout using the .grid() geometry manager\n",
    "F.grid(row=0, column=0, padx=10)\n",
    "E.grid(row=0, column=1, pady=10)\n",
    "B.grid(row=0, column=2, padx=10)\n",
    "C.grid(row=1, column=2, padx=10, sticky=\"w\")\n",
    "\n",
    "# Bind Enter key press event to the Entry widget\n",
    "E.bind('<Return>', on_enter)\n",
    "\n",
    "# Set focus\n",
    "E.focus_set()\n",
    "window.focus_force()\n",
    "\n",
    "# Run application\n",
    "window.mainloop()"
   ]
  },
  {
   "cell_type": "markdown",
   "metadata": {},
   "source": [
    "## References\n",
    "\n",
    "[Python GUI Tkinter - Introduction](https://realpython.com/python-gui-tkinter) realpython    \n",
    "[Python GUI with Tkinter - Tutorials](https://coderslegacy.com/python/python-gui) coderslegacy  \n",
    "[Sample Projects](https://coderslegacy.com/python-gui-projects-with-tkinter-code/) coderslegacy  \n"
   ]
  }
 ],
 "metadata": {
  "interpreter": {
   "hash": "0d008810b9c8467bcb3ca39aa2180e5b81b3a9acb136aab30d47954377cc5120"
  },
  "kernelspec": {
   "display_name": "Python 3.9.8 64-bit",
   "name": "python3"
  },
  "language_info": {
   "codemirror_mode": {
    "name": "ipython",
    "version": 3
   },
   "file_extension": ".py",
   "mimetype": "text/x-python",
   "name": "python",
   "nbconvert_exporter": "python",
   "pygments_lexer": "ipython3",
   "version": "3.9.7"
  },
  "orig_nbformat": 4
 },
 "nbformat": 4,
 "nbformat_minor": 2
}
