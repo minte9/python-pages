{
 "metadata": {
  "language_info": {
   "codemirror_mode": {
    "name": "ipython",
    "version": 3
   },
   "file_extension": ".py",
   "mimetype": "text/x-python",
   "name": "python",
   "nbconvert_exporter": "python",
   "pygments_lexer": "ipython3",
   "version": "3.9.8"
  },
  "orig_nbformat": 4,
  "kernelspec": {
   "name": "python3",
   "display_name": "Python 3.9.8 64-bit"
  },
  "interpreter": {
   "hash": "0d008810b9c8467bcb3ca39aa2180e5b81b3a9acb136aab30d47954377cc5120"
  }
 },
 "nbformat": 4,
 "nbformat_minor": 2,
 "cells": [
  {
   "source": [
    "### Itertools\n",
    "\n",
    "Standard library that contains a collection of generators for common data `algorithms`."
   ],
   "cell_type": "markdown",
   "metadata": {}
  },
  {
   "source": [
    "### Groupby"
   ],
   "cell_type": "markdown",
   "metadata": {}
  },
  {
   "cell_type": "code",
   "execution_count": 167,
   "metadata": {},
   "outputs": [
    {
     "output_type": "stream",
     "name": "stdout",
     "text": [
      "2024-08-01 [{'date': '2024-08-01', 'amount': 100}, {'date': '2024-08-01', 'amount': 200}]\n2024-08-02 [{'date': '2024-08-02', 'amount': 150}]\n2024-08-03 [{'date': '2024-08-03', 'amount': 50}]\n"
     ]
    }
   ],
   "source": [
    "\"\"\" Groupby\n",
    "    Make an iterator that returns consecutive keys and groups from the iterable.\n",
    "\"\"\"\n",
    "import itertools\n",
    "\n",
    "transactions = [\n",
    "    {'date': '2024-08-01', 'amount': 100},\n",
    "    {'date': '2024-08-02', 'amount': 150},\n",
    "    {'date': '2024-08-01', 'amount': 200},\n",
    "    {'date': '2024-08-03', 'amount': 50},\n",
    "]\n",
    "\n",
    "# Sort by date\n",
    "transactions.sort(key=lambda x: x['date'])\n",
    "\n",
    "\"\"\" \n",
    "    # List append\n",
    "    def groupby(items, sortby):\n",
    "        items.sort(key=lambda x: x[sortby])  # sort by date\n",
    "\n",
    "        grouped = {}\n",
    "        for t in items:\n",
    "            date = t['date']\n",
    "            if date not in grouped:\n",
    "                grouped[date] = []\n",
    "            grouped[date].append(t['amount'])\n",
    "        return grouped\n",
    "\n",
    "    grouped = groupby(transactions, 'date')\n",
    "    print(grouped)\n",
    "\"\"\"\n",
    "\n",
    "# itertools\n",
    "grouped = itertools.groupby(transactions, key=lambda x: x['date'])  # iterator\n",
    "for date, group in grouped:                                         \n",
    "    print(date, list(group)) # group is a generator\n"
   ]
  },
  {
   "source": [
    "### Compress\n"
   ],
   "cell_type": "markdown",
   "metadata": {}
  },
  {
   "cell_type": "code",
   "execution_count": 168,
   "metadata": {},
   "outputs": [
    {
     "output_type": "stream",
     "name": "stdout",
     "text": [
      "['apple', 'cherry']\n"
     ]
    }
   ],
   "source": [
    "\"\"\" Compress\n",
    "    Makes an interator that returns elements where the corresponding item is true.  \n",
    "    Filtering with a Boolean list (example).\n",
    "\"\"\"\n",
    "\n",
    "products = ['apple', 'banana', 'cherry', 'orange']\n",
    "in_stock = [True, False, True, False]\n",
    "\n",
    "\"\"\"\n",
    "    # zip\n",
    "    available_products = [item for item, available in zip(products, in_stock) if available]\n",
    "    print(available_products)\n",
    "\"\"\"\n",
    "\n",
    "#  itertools\n",
    "available_products = itertools.compress(products, in_stock)  # iterator\n",
    "print(list(available_products))\n"
   ]
  },
  {
   "source": [
    "### Acumulate\n"
   ],
   "cell_type": "markdown",
   "metadata": {}
  },
  {
   "cell_type": "code",
   "execution_count": 169,
   "metadata": {},
   "outputs": [
    {
     "output_type": "stream",
     "name": "stdout",
     "text": [
      "[1, 3, 6, 10, 15]\n"
     ]
    }
   ],
   "source": [
    "\"\"\" Accumulate sums\n",
    "    Make an iterator that returns accumulated sums  from other binary functions.\n",
    "\"\"\"\n",
    "\n",
    "N = [1, 2, 3, 4, 5]\n",
    "T = []\n",
    "\n",
    "\"\"\"\n",
    "    total = 0\n",
    "    for n in N:\n",
    "        total += n\n",
    "        T.append(total)\n",
    "    print(T)\n",
    "\"\"\"\n",
    "\n",
    "# itertools\n",
    "T = itertools.accumulate(N)\n",
    "print(list(T))\n"
   ]
  },
  {
   "source": [
    "### References\n",
    "\n",
    "https://docs.python.org/3/library/itertools.html"
   ],
   "cell_type": "markdown",
   "metadata": {}
  }
 ]
}
