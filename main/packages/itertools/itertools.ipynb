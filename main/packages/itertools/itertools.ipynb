{
 "metadata": {
  "language_info": {
   "codemirror_mode": {
    "name": "ipython",
    "version": 3
   },
   "file_extension": ".py",
   "mimetype": "text/x-python",
   "name": "python",
   "nbconvert_exporter": "python",
   "pygments_lexer": "ipython3",
   "version": "3.9.8"
  },
  "orig_nbformat": 4,
  "kernelspec": {
   "name": "python3",
   "display_name": "Python 3.9.8 64-bit"
  },
  "interpreter": {
   "hash": "0d008810b9c8467bcb3ca39aa2180e5b81b3a9acb136aab30d47954377cc5120"
  }
 },
 "nbformat": 4,
 "nbformat_minor": 2,
 "cells": [
  {
   "source": [
    "### Itertools\n",
    "\n",
    "Standard library that contains a collection of generators for common data `algorithms`."
   ],
   "cell_type": "markdown",
   "metadata": {}
  },
  {
   "source": [
    "### Groupby"
   ],
   "cell_type": "markdown",
   "metadata": {}
  },
  {
   "cell_type": "code",
   "execution_count": 5,
   "metadata": {},
   "outputs": [
    {
     "output_type": "stream",
     "name": "stdout",
     "text": [
      "{'2024-08-01': [100, 200], '2024-08-02': [150], '2024-08-03': [50]}\n2024-08-01 [{'date': '2024-08-01', 'amount': 100}, {'date': '2024-08-01', 'amount': 200}]\n2024-08-02 [{'date': '2024-08-02', 'amount': 150}]\n2024-08-03 [{'date': '2024-08-03', 'amount': 50}]\n"
     ]
    }
   ],
   "source": [
    "\"\"\" Groupby\n",
    "    Make an iterator that returns consecutive keys and groups from the iterable.\n",
    "\"\"\"\n",
    "\n",
    "import itertools\n",
    "\n",
    "transactions = [\n",
    "    {'date': '2024-08-01', 'amount': 100},\n",
    "    {'date': '2024-08-02', 'amount': 150},\n",
    "    {'date': '2024-08-01', 'amount': 200},\n",
    "    {'date': '2024-08-03', 'amount': 50},\n",
    "]\n",
    "transactions.sort(key=lambda x: x['date']) # Sort by date\n",
    "\n",
    "\n",
    "# without itertools\n",
    "def groupby(items, sortby):\n",
    "    grouped = {}\n",
    "    \n",
    "    for t in items:\n",
    "        date = t['date']\n",
    "        if date not in grouped:\n",
    "            grouped[date] = []\n",
    "        grouped[date].append(t['amount'])  # Look here\n",
    "    return grouped\n",
    "\n",
    "grouped = groupby(transactions, 'date')\n",
    "print(grouped)\n",
    "\n",
    "\n",
    "# itertools\n",
    "grouped = itertools.groupby(transactions, key=lambda x: x['date'])  # iterator\n",
    "for date, group in grouped:                                         \n",
    "    print(date, list(group)) # group is a generator\n"
   ]
  },
  {
   "source": [
    "### Compress\n"
   ],
   "cell_type": "markdown",
   "metadata": {}
  },
  {
   "cell_type": "code",
   "execution_count": 6,
   "metadata": {},
   "outputs": [
    {
     "output_type": "stream",
     "name": "stdout",
     "text": [
      "['apple', 'cherry']\n['apple', 'cherry']\n"
     ]
    }
   ],
   "source": [
    "\"\"\" Compress\n",
    "    Makes an interator that returns elements where the corresponding item is true.  \n",
    "    Filtering with a Boolean list (example).\n",
    "\"\"\"\n",
    "\n",
    "import itertools\n",
    "\n",
    "products = ['apple', 'banana', 'cherry', 'orange']\n",
    "in_stock = [True, False, True, False]\n",
    "\n",
    "\n",
    "# without itertools\n",
    "available_products = [item for item, available in zip(products, in_stock) if available]\n",
    "print(available_products)\n",
    "\n",
    "\n",
    "# itertools\n",
    "available_products = itertools.compress(products, in_stock)  # iterator\n",
    "print(list(available_products))\n"
   ]
  },
  {
   "source": [
    "### Acumulate\n"
   ],
   "cell_type": "markdown",
   "metadata": {}
  },
  {
   "cell_type": "code",
   "execution_count": 7,
   "metadata": {},
   "outputs": [
    {
     "output_type": "stream",
     "name": "stdout",
     "text": [
      "[1, 3, 6, 10, 15]\n[1, 3, 6, 10, 15]\n"
     ]
    }
   ],
   "source": [
    "\"\"\" Accumulate sums\n",
    "    Make an iterator that returns accumulated sums  from other binary functions.\n",
    "\"\"\"\n",
    "\n",
    "import itertools\n",
    "\n",
    "N = [1, 2, 3, 4, 5]\n",
    "T = []\n",
    "\n",
    "# without itertools\n",
    "total = 0\n",
    "for n in N:\n",
    "    total += n\n",
    "    T.append(total)\n",
    "print(T)\n",
    "\n",
    "# itertools\n",
    "T = itertools.accumulate(N)\n",
    "print(list(T))\n"
   ]
  },
  {
   "source": [
    "### Count\n"
   ],
   "cell_type": "markdown",
   "metadata": {}
  },
  {
   "cell_type": "code",
   "execution_count": 11,
   "metadata": {},
   "outputs": [
    {
     "output_type": "stream",
     "name": "stdout",
     "text": [
      "[10, 11, 12, 13, 14]\n[2.5, 3.0, 3.5, 4.0, 4.5]\n"
     ]
    }
   ],
   "source": [
    "\"\"\" Count\n",
    "    Make an iterator that returns evenly spaced values beginning with start.\n",
    "\"\"\"\n",
    "\n",
    "import itertools\n",
    "\n",
    "# without itertools\n",
    "def custom_count(start=0, step=1):\n",
    "    n = start\n",
    "    while True:\n",
    "        yield n\n",
    "        n += step\n",
    "counter = custom_count(10, 1)\n",
    "first_five = [next(counter) for _ in range(5)]\n",
    "print(first_five)\n",
    "\n",
    "# itertools\n",
    "counter = itertools.count(2.5, 0.5)\n",
    "first_five = [next(counter) for _ in range(5)]\n",
    "print(first_five)\n"
   ]
  },
  {
   "source": [
    "### Permutations"
   ],
   "cell_type": "markdown",
   "metadata": {}
  },
  {
   "cell_type": "code",
   "execution_count": 45,
   "metadata": {},
   "outputs": [
    {
     "output_type": "stream",
     "name": "stdout",
     "text": [
      "['AB', 'AC', 'AD', 'BA', 'BC', 'BD', 'CA', 'CB', 'CD', 'DA', 'DB', 'DC']\n['012', '021', '102', '120', '201', '210']\n"
     ]
    }
   ],
   "source": [
    "\"\"\" Permutations\n",
    "    Return successive r length permutations of elements from the iterable.\n",
    "    permutations('ABCD', 2) → AB AC AD BA BC BD CA CB CD DA DB DC\n",
    "    permutations(range(3)) → 012 021 102 120 201 210\n",
    "\"\"\"\n",
    "\n",
    "import itertools\n",
    "\n",
    "iter = itertools.permutations('ABCD', 2)\n",
    "print([a + b for a, b in list(iter)])\n",
    "\n",
    "iter = itertools.permutations(range(3))\n",
    "print([f\"{x}{y}{z}\" for x, y, z in list(iter)])\n"
   ]
  },
  {
   "source": [
    "### References\n",
    "\n",
    "https://docs.python.org/3/library/itertools.html"
   ],
   "cell_type": "markdown",
   "metadata": {}
  }
 ]
}
