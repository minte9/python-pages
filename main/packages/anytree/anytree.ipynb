{
 "cells": [
  {
   "attachments": {},
   "cell_type": "markdown",
   "metadata": {},
   "source": [
    "### Anytree / Package\n",
    "\n",
    "Using `tree` data structures is made easy with anytree package.     \n",
    "It makes it simple to build, navigate, and `visualise` trees.  "
   ]
  },
  {
   "cell_type": "code",
   "execution_count": null,
   "metadata": {},
   "outputs": [],
   "source": [
    "%pip install anytree"
   ]
  },
  {
   "attachments": {},
   "cell_type": "markdown",
   "metadata": {},
   "source": [
    "### Node / Create\n",
    "\n",
    "To create a tree in anytree, you start by defining `nodes`.  \n",
    "We create a `root` node and then add two child nodes to it."
   ]
  },
  {
   "cell_type": "code",
   "execution_count": 1,
   "metadata": {},
   "outputs": [
    {
     "name": "stdout",
     "output_type": "stream",
     "text": [
      " A\n",
      "├──  B\n",
      "└──  C\n"
     ]
    }
   ],
   "source": [
    "from anytree import Node, RenderTree\n",
    "\n",
    "root = Node('A')\n",
    "node1 = Node('B', parent=root)\n",
    "node2 = Node('C', parent=root)\n",
    "\n",
    "for pre, fill, node in RenderTree(root):\n",
    "    print(pre, node.name)\n",
    "\n"
   ]
  },
  {
   "attachments": {},
   "cell_type": "markdown",
   "metadata": {},
   "source": [
    "### Delete / Node\n",
    "\n",
    "The node is deleted from the tree when you set `parent` to None."
   ]
  },
  {
   "cell_type": "code",
   "execution_count": 2,
   "metadata": {},
   "outputs": [
    {
     "name": "stdout",
     "output_type": "stream",
     "text": [
      "Tree:\n",
      " A\n",
      "├──  B\n",
      "│   └──  D\n",
      "└──  C\n",
      "    ├──  E\n",
      "    │   ├──  G\n",
      "    │   └──  H\n",
      "    └──  F\n",
      "Tree after deletion:\n",
      " A\n",
      "└──  B\n",
      "    └──  D\n"
     ]
    }
   ],
   "source": [
    "from anytree import Node, RenderTree\n",
    "\n",
    "root = Node('A')\n",
    "node2 = Node('B', parent=root)\n",
    "node3 = Node('C', parent=root)\n",
    "node4 = Node('D', parent=node2)\n",
    "node5 = Node('E', parent=node3)\n",
    "node6 = Node('F', parent=node3)\n",
    "node7 = Node('G', parent=node5)\n",
    "node8 = Node('H', parent=node5)\n",
    "\n",
    "print(\"Tree:\")\n",
    "for pre, fill, node in RenderTree(root):\n",
    "    print(pre, node.name)\n",
    "\n",
    "# Delete node 'C' and its descendants\n",
    "node3.parent = None\n",
    "\n",
    "print(\"Tree after deletion:\")\n",
    "[print(pre,node.name) for pre,_,node in RenderTree(root)];\n"
   ]
  },
  {
   "attachments": {},
   "cell_type": "markdown",
   "metadata": {},
   "source": [
    "### References\n",
    "\n",
    "https://anytree.readthedocs.io/en/latest  \n",
    "https://www.javatpoint.com/anytree-python  "
   ]
  }
 ],
 "metadata": {
  "kernelspec": {
   "display_name": "Python 3",
   "language": "python",
   "name": "python3"
  },
  "language_info": {
   "codemirror_mode": {
    "name": "ipython",
    "version": 3
   },
   "file_extension": ".py",
   "mimetype": "text/x-python",
   "name": "python",
   "nbconvert_exporter": "python",
   "pygments_lexer": "ipython3",
   "version": "3.9.7"
  },
  "orig_nbformat": 4
 },
 "nbformat": 4,
 "nbformat_minor": 2
}
