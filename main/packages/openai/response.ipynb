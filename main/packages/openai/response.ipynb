{
 "cells": [
  {
   "attachments": {},
   "cell_type": "markdown",
   "metadata": {},
   "source": [
    "### API Request\n",
    "\n",
    "OpenAI's `text` generation models have been trained to understand natural and formal language.  \n",
    "The inputs to these models are also referred to as `prompts`.  "
   ]
  },
  {
   "cell_type": "code",
   "execution_count": 24,
   "metadata": {},
   "outputs": [
    {
     "name": "stdout",
     "output_type": "stream",
     "text": [
      "Question: What is Flask?\n",
      "Flask is a lightweight web framework written in Python\n"
     ]
    }
   ],
   "source": [
    "import openai\n",
    "import os\n",
    "\n",
    "# Setup OpenAI API key\n",
    "openai.api_key = os.environ.get(\"OPENAI_API_KEY\")\n",
    "\n",
    "# User question\n",
    "question = \"What is Flask?\"\n",
    "print(\"Question:\", question)\n",
    "\n",
    "# API response (short answer)\n",
    "response = openai.ChatCompletion.create(\n",
    "    model=\"gpt-3.5-turbo\",\n",
    "    messages=[{\"role\": \"user\", \"content\": question}],\n",
    "    max_tokens=10,\n",
    "    n=1,\n",
    "    stop=None,\n",
    "    temperature=0.7\n",
    ")\n",
    "\n",
    "answer = response['choices'][0]['message']['content']\n",
    "print(answer)"
   ]
  },
  {
   "attachments": {},
   "cell_type": "markdown",
   "metadata": {},
   "source": [
    "### Streaming Completion\n",
    "\n",
    "Streaming completion is an essential functionality for `real-time` text generation applications.  \n",
    "In the context of OpenAI, streaming completions refer to the ability to receive a stream of `tokens`.  "
   ]
  },
  {
   "cell_type": "code",
   "execution_count": 19,
   "metadata": {},
   "outputs": [
    {
     "name": "stdout",
     "output_type": "stream",
     "text": [
      "Question: What is Flask?\n",
      "Flask is a micro web framework written in Python. It is designed to be lightweight and easy to use, providing developers with the tools they need to build web applications quickly and efficiently. Flask provides a simple and flexible way to handle HTTP requests, manage routing, and render templates. It also supports extensions for various functionalities such as database integration, authentication, and form validation. Flask is widely used for developing web applications, APIs, and prototypes."
     ]
    }
   ],
   "source": [
    "import openai\n",
    "import os, sys\n",
    "\n",
    "# Setup OpenAI API key\n",
    "openai.api_key = os.environ.get(\"OPENAI_API_KEY\")\n",
    "\n",
    "question = \"What is Flask?\" \n",
    "print(\"Question:\", question)\n",
    "\n",
    "response = openai.ChatCompletion.create(\n",
    "    model=\"gpt-3.5-turbo\",\n",
    "    messages=[{\"role\": \"user\", \"content\": question}],\n",
    "    max_tokens=256,\n",
    "    n=1,\n",
    "    stop=None,\n",
    "    temperature=0.7,\n",
    "    stream=True\n",
    ")\n",
    "\n",
    "for chunk in response:\n",
    "    content = chunk[\"choices\"][0][\"delta\"].get(\"content\", \"\")\n",
    "    print(content, end=\"\", flush=True)"
   ]
  },
  {
   "attachments": {},
   "cell_type": "markdown",
   "metadata": {},
   "source": [
    "### Conversation History\n",
    "\n",
    "You can use the GPT API to create a conversation where the model `remembers` the context.   \n",
    "You'll need to maintain the conversation history and include that history in `subsequent` requests. "
   ]
  },
  {
   "cell_type": "code",
   "execution_count": 29,
   "metadata": {},
   "outputs": [
    {
     "name": "stdout",
     "output_type": "stream",
     "text": [
      "\n",
      "Please enter your question (or 'exit' to end):\n",
      "Question: What is Flask?\n",
      "Flask is a micro web framework for Python, which means it provides the basic tools and features needed to build web applications. It is designed to be simple, lightweight, and flexible, allowing developers to quickly create web applications without unnecessary complexity. Flask follows the Model-View-Controller (MVC) architectural pattern and offers various extensions for added functionality, such as handling forms, working with databases, and supporting authentication.\n",
      "Please enter your question (or 'exit' to end):\n",
      "Question: What's the current version?\n",
      "As of September 2021, the latest version of Flask is 2.0.1.\n",
      "Please enter your question (or 'exit' to end):\n",
      "Question: exit\n",
      "Conversation ended.\n"
     ]
    }
   ],
   "source": [
    "import openai\n",
    "import os, sys\n",
    "\n",
    "# Setup OpenAI API key\n",
    "openai.api_key = os.environ.get(\"OPENAI_API_KEY\")\n",
    "\n",
    "# Initialize conversation history\n",
    "conversation_history = []\n",
    "\n",
    "while True:\n",
    "    # User question\n",
    "    print(\"\\nPlease enter your question (or 'exit' to end):\")\n",
    "    question = input()\n",
    "    print(\"Question:\", question)\n",
    "\n",
    "    if question.lower() == 'exit':\n",
    "        break\n",
    "\n",
    "    # Add user question to conversation history\n",
    "    conversation_history.append({\"role\": \"user\", \"content\": question})\n",
    "\n",
    "    response = openai.ChatCompletion.create(\n",
    "        model=\"gpt-3.5-turbo\",\n",
    "        messages=conversation_history,\n",
    "        max_tokens=256,\n",
    "        n=1,\n",
    "        stop=None,\n",
    "        temperature=0.7,\n",
    "        stream=True\n",
    "    )\n",
    "\n",
    "    for chunk in response:\n",
    "        content = chunk[\"choices\"][0][\"delta\"].get(\"content\", \"\")\n",
    "        print(content, end=\"\", flush=True)\n",
    "\n",
    "    # Add API response to converstion history\n",
    "    conversation_history.append({\"role\": \"system\", \"content\": content})\n",
    "\n",
    "    \n",
    "print(\"Conversation ended.\")"
   ]
  },
  {
   "attachments": {},
   "cell_type": "markdown",
   "metadata": {},
   "source": [
    "### References\n",
    "\n",
    "https://levelup.gitconnected.com/build-your-own-question-answering-system-with-openai-and-flask-2200507ac601\n",
    "https://platform.openai.com/docs/quickstart?context=python  \n",
    "https://blog.finxter.com/python-openai-streaming-completions"
   ]
  }
 ],
 "metadata": {
  "kernelspec": {
   "display_name": "Python 3",
   "language": "python",
   "name": "python3"
  },
  "language_info": {
   "codemirror_mode": {
    "name": "ipython",
    "version": 3
   },
   "file_extension": ".py",
   "mimetype": "text/x-python",
   "name": "python",
   "nbconvert_exporter": "python",
   "pygments_lexer": "ipython3",
   "version": "3.9.7"
  },
  "orig_nbformat": 4
 },
 "nbformat": 4,
 "nbformat_minor": 2
}
