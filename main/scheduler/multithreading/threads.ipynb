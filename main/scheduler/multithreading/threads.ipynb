{
 "cells": [
  {
   "cell_type": "markdown",
   "metadata": {},
   "source": [
    "### Threads\n",
    "\n",
    "When you use time `sleep` your program cannot do anything else, unless you use threads.  \n",
    "A single-thread program is like placing one finger on a line of code, then `moving` to the next.  \n",
    "A multi-threaded program has multiple `fingers`.  "
   ]
  },
  {
   "cell_type": "code",
   "execution_count": 22,
   "metadata": {},
   "outputs": [
    {
     "name": "stdout",
     "output_type": "stream",
     "text": [
      "Main start - MainThread\n",
      "Main end - MainThread\n"
     ]
    },
    {
     "name": "stdout",
     "output_type": "stream",
     "text": [
      "Second-Thread\n",
      "Third-Thread\n",
      "Thread-20\n"
     ]
    }
   ],
   "source": [
    "import threading, time\n",
    "\n",
    "def pause_task():\n",
    "    time.sleep(1)\n",
    "    print(threading.currentThread().name)\n",
    "\n",
    "if __name__ == '__main__':\n",
    "\n",
    "    print('Main start -', threading.currentThread().name)\n",
    "\n",
    "    # Start new threads\n",
    "    thread = threading.Thread(target=pause_task, name='Second-Thread')\n",
    "    thread.start()\n",
    "\n",
    "    thread = threading.Thread(target=pause_task, name='Third-Thread')\n",
    "    thread.start()\n",
    "\n",
    "    thread = threading.Thread(target=pause_task) # default name\n",
    "    thread.start()\n",
    "\n",
    "    print('Main end -', threading.currentThread().name)"
   ]
  },
  {
   "cell_type": "markdown",
   "metadata": {},
   "source": [
    "### Arguments\n",
    "\n",
    "You can pass `target` function with arguments. "
   ]
  },
  {
   "cell_type": "code",
   "execution_count": 27,
   "metadata": {},
   "outputs": [
    {
     "name": "stdout",
     "output_type": "stream",
     "text": [
      "Main start - MainThread\n",
      "Main end - MainThread\n"
     ]
    },
    {
     "name": "stdout",
     "output_type": "stream",
     "text": [
      "File = myfile - Second-Thread\n"
     ]
    }
   ],
   "source": [
    "import threading, time\n",
    "\n",
    "def pause_task(file):\n",
    "    time.sleep(1)\n",
    "    print(f\"File = {file} -\", threading.currentThread().name)\n",
    "\n",
    "if __name__ == '__main__':\n",
    "\n",
    "    print('Main start -', threading.currentThread().name)\n",
    "\n",
    "    # Start new thread\n",
    "    thread = threading.Thread(target=pause_task, name='Second-Thread', args=['myfile'])\n",
    "    thread.start()\n",
    "    \n",
    "    print('Main end -', threading.currentThread().name)"
   ]
  },
  {
   "cell_type": "markdown",
   "metadata": {},
   "source": [
    "### Concurrency\n",
    "\n",
    "To avoid concurrency issues, never let threads change the `same` variable.  \n",
    "When you create a new thread make sure its target function uses `only` local variable in that function."
   ]
  }
 ],
 "metadata": {
  "kernelspec": {
   "display_name": "Python 3",
   "language": "python",
   "name": "python3"
  },
  "language_info": {
   "codemirror_mode": {
    "name": "ipython",
    "version": 3
   },
   "file_extension": ".py",
   "mimetype": "text/x-python",
   "name": "python",
   "nbconvert_exporter": "python",
   "pygments_lexer": "ipython3",
   "version": "3.9.7"
  }
 },
 "nbformat": 4,
 "nbformat_minor": 2
}
