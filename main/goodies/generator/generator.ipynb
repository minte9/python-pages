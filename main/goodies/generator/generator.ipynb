{
 "cells": [
  {
   "cell_type": "markdown",
   "metadata": {},
   "source": [
    "### Iterator\n",
    "\n",
    "Many `objects` in Python support iteration.  \n",
    "They are using iteration `protocol`, a generic way to make objects iterable.  \n",
    "An interator is any object that will `yield` objects when used in a loop context.  "
   ]
  },
  {
   "cell_type": "code",
   "execution_count": 3,
   "metadata": {},
   "outputs": [
    {
     "name": "stdout",
     "output_type": "stream",
     "text": [
      "a\n",
      "b\n",
      "c\n",
      "<dict_keyiterator object at 0x7f9ff40e7400>\n",
      "a\n",
      "b\n",
      "c\n"
     ]
    }
   ],
   "source": [
    "# Loop context\n",
    "dict = {'a':1, 'b': 2, 'c': 3}\n",
    "for key in dict:\n",
    "    print(key)\n",
    "\n",
    "# Iterator object\n",
    "itr = iter(dict)\n",
    "print(itr)\n",
    "\n",
    "# Loop equivalent\n",
    "print(next(itr))\n",
    "print(next(itr))\n",
    "print(next(itr))"
   ]
  },
  {
   "cell_type": "markdown",
   "metadata": {},
   "source": [
    "### Generator\n",
    "\n",
    "A normal function execute and return a `single` result at a time.  \n",
    "A generator can return a `sequence` of values by pausing and resuming execution.  "
   ]
  },
  {
   "cell_type": "code",
   "execution_count": 12,
   "metadata": {},
   "outputs": [
    {
     "name": "stdout",
     "output_type": "stream",
     "text": [
      "Looping through a function returned list:\n",
      "1 4 9 16 25 36 49 64 81 \n",
      "\n",
      "Looping using iter object:\n",
      "1 4 9 "
     ]
    }
   ],
   "source": [
    "# Functions return values\n",
    "def squares_func():\n",
    "    lst = []\n",
    "    for i in range(1, 10):\n",
    "        m = i**2\n",
    "        lst.append(m)\n",
    "    return lst\n",
    "\n",
    "print(\"Looping through a function returned list:\")\n",
    "A = squares_func()\n",
    "for x in A:\n",
    "    print(x, end=' ')\n",
    "\n",
    "# Generators yield values\n",
    "def squares_gen():\n",
    "    for i in range(1, 10):\n",
    "        yield i**2\n",
    "\n",
    "print(\"\\n\\nLooping using iter object:\")\n",
    "G = squares_gen()\n",
    "itr = iter(G)\n",
    "for i in range(0, 3):\n",
    "    print(next(itr), end=' ')\n",
    "        # 1 4 9\n"
   ]
  },
  {
   "cell_type": "markdown",
   "metadata": {},
   "source": [
    "### Generator expressions\n",
    "\n",
    "Generator expressions are `similar` to list, dictionary or set comprehensions.  \n",
    "Enclose withing `parantheses` insteed of brackets.  "
   ]
  },
  {
   "cell_type": "code",
   "execution_count": null,
   "metadata": {},
   "outputs": [],
   "source": [
    "G = (x**2 for x in range(100))\n",
    "\n",
    "print(next(G)) # 0\n",
    "print(next(G)) # 1\n",
    "print(next(G)) # 4\n",
    "\n",
    "# This is equivalent to the more verbose generator:\n",
    "\n",
    "def make_gen():\n",
    "    for x in range(100):\n",
    "        yield x**2\n",
    "\n",
    "G = make_gen()\n",
    "\n",
    "print(next(G)) # 0\n",
    "print(next(G)) # 1\n",
    "print(next(G)) # 4"
   ]
  }
 ],
 "metadata": {
  "kernelspec": {
   "display_name": "Python 3",
   "language": "python",
   "name": "python3"
  },
  "language_info": {
   "codemirror_mode": {
    "name": "ipython",
    "version": 3
   },
   "file_extension": ".py",
   "mimetype": "text/x-python",
   "name": "python",
   "nbconvert_exporter": "python",
   "pygments_lexer": "ipython3",
   "version": "3.9.7"
  }
 },
 "nbformat": 4,
 "nbformat_minor": 2
}
