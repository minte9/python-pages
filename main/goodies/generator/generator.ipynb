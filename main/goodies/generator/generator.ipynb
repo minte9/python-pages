{
 "metadata": {
  "language_info": {
   "codemirror_mode": {
    "name": "ipython",
    "version": 3
   },
   "file_extension": ".py",
   "mimetype": "text/x-python",
   "name": "python",
   "nbconvert_exporter": "python",
   "pygments_lexer": "ipython3",
   "version": "3.9.8"
  },
  "orig_nbformat": 4,
  "kernelspec": {
   "name": "python3",
   "display_name": "Python 3.9.8 64-bit"
  },
  "interpreter": {
   "hash": "0d008810b9c8467bcb3ca39aa2180e5b81b3a9acb136aab30d47954377cc5120"
  }
 },
 "nbformat": 4,
 "nbformat_minor": 2,
 "cells": [
  {
   "source": [
    "### Iterator\n",
    "\n",
    "An iterator is an object implements the iterator `protocol`.  \n",
    "An iterator is an object that contains a `countable` number of values.  \n",
    "An interator is any object that will return objects when used in a `loop` context.   "
   ],
   "cell_type": "markdown",
   "metadata": {}
  },
  {
   "source": [
    "class SquareIterator():\n",
    "    def __init__(self):\n",
    "        self.num = 0\n",
    "    \n",
    "    def __iter__(self):\n",
    "        return self\n",
    "\n",
    "    def __next__(self):\n",
    "        if self.num < 5:\n",
    "            res = self.num**2\n",
    "            self.num += 1\n",
    "            return res\n",
    "        else:\n",
    "            raise StopIteration\n",
    "\n",
    "print(\"Iterator usage:\")\n",
    "squares = SquareIterator()\n",
    "for n in squares:\n",
    "    print(n, end=' ')\n",
    "print('\\n')\n",
    "\n",
    "print(\"Loop through a collection:\")\n",
    "mydict = {'a':1, 'b': 2, 'c': 3}\n",
    "\n",
    "for key in mydict:  # __next__() is called\n",
    "    print(key, end=' ')\n",
    "\n",
    "myiterator = iter(mydict)\n",
    "print(next(myiterator), end=' ')\n",
    "print(next(myiterator))\n"
   ],
   "cell_type": "code",
   "metadata": {},
   "execution_count": 7,
   "outputs": [
    {
     "output_type": "stream",
     "name": "stdout",
     "text": [
      "Iterator usage:\n0 1 4 9 16 \n\nLoop through a collection:\na b c a b\n"
     ]
    }
   ]
  },
  {
   "source": [
    "### Generator\n",
    "\n",
    "A generator is a `simpler` way to create an iterator.  \n",
    "A generator is a function that `yields` values one at a time.  "
   ],
   "cell_type": "markdown",
   "metadata": {}
  },
  {
   "cell_type": "code",
   "execution_count": 2,
   "metadata": {},
   "outputs": [
    {
     "output_type": "stream",
     "name": "stdout",
     "text": [
      "1 4 9 16 25 36 49 64 81 100 "
     ]
    }
   ],
   "source": [
    "def SquareGenerator(n=10):\n",
    "    for i in range(1, n+1):\n",
    "        yield i**2\n",
    "\n",
    "G = SquareGenerator()\n",
    "for x in G:\n",
    "    print(x, end=' ')"
   ]
  },
  {
   "source": [
    "### Generator expression\n",
    "\n",
    "Generator expression is `similar` to list, dictionary or set comprehension.  \n",
    "The expression is enclose withing `parantheses` insteed of brackets.  "
   ],
   "cell_type": "markdown",
   "metadata": {}
  },
  {
   "cell_type": "code",
   "execution_count": 13,
   "metadata": {},
   "outputs": [
    {
     "output_type": "stream",
     "name": "stdout",
     "text": [
      "0 1 4 0 1 4 "
     ]
    }
   ],
   "source": [
    "gen = (x**2 for x in range(100))\n",
    "\n",
    "print(next(gen), end=' ')\n",
    "print(next(gen), end=' ')\n",
    "print(next(gen), end=' ')\n",
    "\n",
    "# This is equivalent to the more verbose generator:\n",
    "\n",
    "def make_gen():\n",
    "    for x in range(100):\n",
    "        yield x**2\n",
    "gen = make_gen()\n",
    "\n",
    "print(next(gen), end=' ')\n",
    "print(next(gen), end=' ')\n",
    "print(next(gen), end=' ')"
   ]
  }
 ]
}
