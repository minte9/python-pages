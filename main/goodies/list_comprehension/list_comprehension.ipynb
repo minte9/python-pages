{
 "cells": [
  {
   "cell_type": "markdown",
   "metadata": {},
   "source": [
    "### List comprehension\n",
    "\n",
    "With list comprehension we can write a looop more `concisely`."
   ]
  },
  {
   "cell_type": "code",
   "execution_count": 2,
   "metadata": {},
   "outputs": [
    {
     "name": "stdout",
     "output_type": "stream",
     "text": [
      "['A', 'B', 'C']\n",
      "['A', 'B', 'C']\n"
     ]
    }
   ],
   "source": [
    "# Input string\n",
    "S = \"abcd\"\n",
    "\n",
    "# Loop (easier to debug)\n",
    "R = []\n",
    "for s in S:\n",
    "    if s in ['a', 'b', 'c']:\n",
    "        R.append(s.capitalize())\n",
    "print(R)\n",
    "\n",
    "# List comprehension (concise)\n",
    "R = [s.capitalize() for s in S if s in ['a', 'b', 'c']]\n",
    "print(R)\n"
   ]
  },
  {
   "cell_type": "markdown",
   "metadata": {},
   "source": [
    "### Set Comprehension\n",
    "\n",
    "Set comprehension uses `curly braches` instead of square brackets."
   ]
  },
  {
   "cell_type": "code",
   "execution_count": 8,
   "metadata": {},
   "outputs": [
    {
     "name": "stdout",
     "output_type": "stream",
     "text": [
      "[1, 2, 3, 3, 3, 4, 6]\n",
      "{1, 2, 3, 4, 6}\n"
     ]
    }
   ],
   "source": [
    "# Input list\n",
    "S = ['a', 'as', 'bat', 'car', 'rac', 'dove', 'python']\n",
    "\n",
    "# List comprehension (square brackets)\n",
    "L = [len(x) for x in S]\n",
    "print(L)\n",
    "\n",
    "# Set comprehension (curly braches, unique items)\n",
    "U = {len(x) for x in S}\n",
    "print(U)\n"
   ]
  },
  {
   "cell_type": "markdown",
   "metadata": {},
   "source": [
    "### Dictionary Comprehension\n",
    "\n",
    "A Dictionary is a data type that stores data in `key/value` pair."
   ]
  },
  {
   "cell_type": "code",
   "execution_count": 9,
   "metadata": {},
   "outputs": [
    {
     "name": "stdout",
     "output_type": "stream",
     "text": [
      "{'milk': 0.51, 'coffee': 1.25, 'bread': 1.25}\n"
     ]
    }
   ],
   "source": [
    "# Input dictionary\n",
    "prices = {'milk': 1.02, 'coffee': 2.5, 'bread': 2.5}\n",
    "\n",
    "# Dictionary comprehension\n",
    "procent = 0.5\n",
    "prices_new = {k: v*procent for (k, v) in prices.items() }\n",
    "print(prices_new)"
   ]
  }
 ],
 "metadata": {
  "interpreter": {
   "hash": "0d008810b9c8467bcb3ca39aa2180e5b81b3a9acb136aab30d47954377cc5120"
  },
  "kernelspec": {
   "display_name": "Python 3.9.8 64-bit",
   "name": "python3"
  },
  "language_info": {
   "codemirror_mode": {
    "name": "ipython",
    "version": 3
   },
   "file_extension": ".py",
   "mimetype": "text/x-python",
   "name": "python",
   "nbconvert_exporter": "python",
   "pygments_lexer": "ipython3",
   "version": "3.9.7"
  },
  "orig_nbformat": 4
 },
 "nbformat": 4,
 "nbformat_minor": 2
}
