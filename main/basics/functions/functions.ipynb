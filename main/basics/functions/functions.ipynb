{
 "cells": [
  {
   "cell_type": "markdown",
   "metadata": {},
   "source": [
    "### Function definition\n",
    "\n",
    "When you define a function, you specify the name and the sequence of `statements`.  \n",
    "Later, you can `call` the function by name.  \n",
    "\n",
    "To `end` the function, you have to enter an empty line.  \n",
    "Split a single instruction on `multple lines` with \\"
   ]
  },
  {
   "cell_type": "code",
   "execution_count": 12,
   "metadata": {},
   "outputs": [
    {
     "name": "stdout",
     "output_type": "stream",
     "text": [
      "1\n",
      "None\n",
      "Hello World\n"
     ]
    }
   ],
   "source": [
    "def f(a): \n",
    "    return a%2\n",
    "\n",
    "def h(x):\n",
    "    return\n",
    "\n",
    "print( f(3) )\n",
    "print( h(\"2\") )\n",
    "print(\"Hello \" + \\\n",
    "    \"World\")"
   ]
  },
  {
   "cell_type": "markdown",
   "metadata": {},
   "source": [
    "### Import module\n",
    "\n",
    "To use a function from a `module`, you have to import it.  \n",
    "When you save your scripts don't use modules `names` like math, sys, csv.  "
   ]
  },
  {
   "cell_type": "code",
   "execution_count": 13,
   "metadata": {},
   "outputs": [
    {
     "name": "stdout",
     "output_type": "stream",
     "text": [
      "3.141592653589793\n",
      "1.0\n"
     ]
    }
   ],
   "source": [
    "import math\n",
    "\n",
    "print( math.pi )\n",
    "print( math.sin(math.pi/2) )"
   ]
  },
  {
   "cell_type": "markdown",
   "metadata": {},
   "source": [
    "### Local variable\n",
    "\n",
    "A local variable is `destroyed` after the function is called.  \n",
    "To modify a global variable from within a function, use `global` statement.  "
   ]
  },
  {
   "cell_type": "code",
   "execution_count": 6,
   "metadata": {},
   "outputs": [
    {
     "name": "stdout",
     "output_type": "stream",
     "text": [
      "7\n",
      "9\n",
      "name 'c' is not defined\n"
     ]
    }
   ],
   "source": [
    "def f(a, b):\n",
    "    c = a + b\n",
    "    return c\n",
    "\n",
    "n = 0\n",
    "def h():\n",
    "    global n \n",
    "        # Look Here\n",
    "\n",
    "    for i in range(10):\n",
    "        n = i\n",
    "    return n\n",
    "\n",
    "print(f(3,4))   # 7\n",
    "print(h())      # 9\n",
    "\n",
    "try:\n",
    "    print(c)\n",
    "except Exception as e:\n",
    "    print(e) \n",
    "        # name c not defined\n"
   ]
  },
  {
   "cell_type": "markdown",
   "metadata": {},
   "source": [
    "### Objects\n",
    "\n",
    "In Python, `functions` are objects.  \n",
    "We can easily express `constructors` difficult to do in other languages.  "
   ]
  },
  {
   "cell_type": "code",
   "execution_count": 10,
   "metadata": {},
   "outputs": [
    {
     "name": "stdout",
     "output_type": "stream",
     "text": [
      "['Alabama', 'Georgia', 'Georgia', 'Georgia', 'Florida', 'South Carolina']\n",
      "['Alabama', 'Georgia', 'Georgia', 'Georgia', 'Florida', 'South Carolina']\n"
     ]
    }
   ],
   "source": [
    "import re\n",
    "\n",
    "states = [' Alabama', 'Georgia!', 'Georgia', 'georgia', 'FlOrIda?', 'south carolina##']\n",
    "\n",
    "# A. Standard approach, applying operations to items\n",
    "def clear_strings(A):\n",
    "    result = []\n",
    "    for v in A:\n",
    "        v = v.strip()\n",
    "        v = re.sub('[!#?]', '', v)\n",
    "        v = v.title()\n",
    "        result.append(v)\n",
    "    return result\n",
    "\n",
    "B = clear_strings(states)\n",
    "print(B)\n",
    "\n",
    "\n",
    "# B. Using a list of opperations, you can easily modify at a very high level\n",
    "def remove_punctuation(value):\n",
    "    return re.sub('[!#?]', '', value)\n",
    "\n",
    "def clear_strings_ops(A, ops):\n",
    "    result = []\n",
    "    for v in A:\n",
    "        for func in ops:\n",
    "            v = func(v)\n",
    "        result.append(v)\n",
    "    return result\n",
    "\n",
    "B = clear_strings_ops(states, [str.strip, remove_punctuation, str.title])\n",
    "print(B)"
   ]
  },
  {
   "cell_type": "markdown",
   "metadata": {},
   "source": [
    "### Lambda\n",
    "\n",
    "Lambda (or anonymous) functions are used for writing `single` statement.  \n",
    "The result of a lambda function is the `return` value.  \n",
    "It is often `less` typing (and clearer) to pass a lamda function as opposed to a function.  "
   ]
  },
  {
   "cell_type": "code",
   "execution_count": 2,
   "metadata": {},
   "outputs": [
    {
     "name": "stdout",
     "output_type": "stream",
     "text": [
      "['aaaa', 'foo', 'bar', 'card']\n"
     ]
    }
   ],
   "source": [
    "def short_function(x):\n",
    "    return x*2\n",
    "\n",
    "equiv_function = lambda x: x*2\n",
    "\n",
    "# Example, sort by the number of distinc letters\n",
    "strings = ['foo', 'card', 'bar', 'aaaa']\n",
    "strings.sort(key=lambda x: len(set(x)))\n",
    "\n",
    "print(strings)\n"
   ]
  }
 ],
 "metadata": {
  "kernelspec": {
   "display_name": "Python 3",
   "language": "python",
   "name": "python3"
  },
  "language_info": {
   "codemirror_mode": {
    "name": "ipython",
    "version": 3
   },
   "file_extension": ".py",
   "mimetype": "text/x-python",
   "name": "python",
   "nbconvert_exporter": "python",
   "pygments_lexer": "ipython3",
   "version": "3.9.7"
  }
 },
 "nbformat": 4,
 "nbformat_minor": 2
}
