{
 "cells": [
  {
   "cell_type": "markdown",
   "metadata": {},
   "source": [
    "### Definition"
   ]
  },
  {
   "cell_type": "code",
   "execution_count": 14,
   "metadata": {},
   "outputs": [
    {
     "name": "stdout",
     "output_type": "stream",
     "text": [
      "1\n"
     ]
    }
   ],
   "source": [
    "\"\"\" When you define a function, you specify the name and the sequence of statements\n",
    "    Later, you can \"call\" the function by name.  \n",
    "\"\"\"\n",
    "\n",
    "# Function definition\n",
    "def f(a): \n",
    "    return a%2\n",
    "\n",
    "# Function call\n",
    "print(f(3))"
   ]
  },
  {
   "cell_type": "markdown",
   "metadata": {},
   "source": [
    "### Import"
   ]
  },
  {
   "cell_type": "code",
   "execution_count": 10,
   "metadata": {},
   "outputs": [
    {
     "name": "stdout",
     "output_type": "stream",
     "text": [
      "3.141592653589793\n",
      "1.0\n"
     ]
    }
   ],
   "source": [
    "\"\"\" To use a function from a module, you have to import it\n",
    "    When you save your scripts don't use modules names like math, sys, csv\n",
    "\"\"\"\n",
    "\n",
    "import math\n",
    "\n",
    "print(math.pi)\n",
    "print(math.sin(math.pi/2))"
   ]
  },
  {
   "cell_type": "markdown",
   "metadata": {},
   "source": [
    "### Local variable"
   ]
  },
  {
   "cell_type": "code",
   "execution_count": 15,
   "metadata": {},
   "outputs": [
    {
     "name": "stdout",
     "output_type": "stream",
     "text": [
      "0\n",
      "9\n",
      "name 'c' is not defined\n"
     ]
    }
   ],
   "source": [
    "\"\"\" A local variable is destroyed after the function is called\n",
    "    To modify a global variable from within a function, use global statement \n",
    "\"\"\"\n",
    "\n",
    "def f():\n",
    "    a = 0 # Local variable\n",
    "    return a\n",
    "\n",
    "n = 0\n",
    "\n",
    "def h():\n",
    "    global n # Look Here\n",
    "    for i in range(10):\n",
    "        n = i\n",
    "    return n\n",
    "\n",
    "print(f()) # 0\n",
    "print(h()) # 9\n",
    "\n",
    "try:\n",
    "    print(c)\n",
    "except Exception as e:\n",
    "    print(e) \n",
    "        # name c not defined"
   ]
  }
 ],
 "metadata": {
  "kernelspec": {
   "display_name": "Python 3",
   "language": "python",
   "name": "python3"
  },
  "language_info": {
   "codemirror_mode": {
    "name": "ipython",
    "version": 3
   },
   "file_extension": ".py",
   "mimetype": "text/x-python",
   "name": "python",
   "nbconvert_exporter": "python",
   "pygments_lexer": "ipython3",
   "version": "3.9.7"
  }
 },
 "nbformat": 4,
 "nbformat_minor": 2
}
