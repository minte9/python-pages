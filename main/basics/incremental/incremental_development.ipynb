{
 "cells": [
  {
   "cell_type": "markdown",
   "metadata": {},
   "source": [
    "### Incremental Development \n",
    "  \n",
    "Pythagorean `Theorem` (right angled triangle):  \n",
    "The square of the `hypotenuse` is equal to the sum of the squares of the other two sides.  \n",
    "The `goal` of incremental development is to avoid long debugging.   "
   ]
  },
  {
   "cell_type": "markdown",
   "metadata": {},
   "source": [
    "### Step 1\n",
    "\n",
    "Define the function with `wrong` answer but syntactically correct."
   ]
  },
  {
   "cell_type": "code",
   "execution_count": 20,
   "metadata": {},
   "outputs": [
    {
     "name": "stdout",
     "output_type": "stream",
     "text": [
      "Asserts passed!\n"
     ]
    }
   ],
   "source": [
    "def distance(x1, y1, x2, y2):\n",
    "    return 0.0\n",
    "\n",
    "assert distance(1, 2, 4, 6) == 0.0\n",
    "assert distance(1, 2, 1, 2) == 0.0\n",
    "print(\"Asserts passed!\")"
   ]
  },
  {
   "cell_type": "markdown",
   "metadata": {},
   "source": [
    "### Step 2\n",
    "\n",
    "The next step is to find the `differences` x2-x1, y2-y1"
   ]
  },
  {
   "cell_type": "code",
   "execution_count": 21,
   "metadata": {},
   "outputs": [
    {
     "name": "stdout",
     "output_type": "stream",
     "text": [
      "Asserts passed!\n"
     ]
    }
   ],
   "source": [
    "def distance(x1, y1, x2, y2):\n",
    "    dx = x2 - x1\n",
    "    dy = y2 - y1\n",
    "    return 0.0\n",
    "\n",
    "assert distance(1, 2, 4, 6) == 0.0\n",
    "assert distance(1, 2, 1, 2) == 0.0\n",
    "\n",
    "print(\"Asserts passed!\")"
   ]
  },
  {
   "cell_type": "markdown",
   "metadata": {},
   "source": [
    "### Step 3\n",
    "\n",
    "The next step is to compute the `sum` of squares."
   ]
  },
  {
   "cell_type": "code",
   "execution_count": 22,
   "metadata": {},
   "outputs": [
    {
     "name": "stdout",
     "output_type": "stream",
     "text": [
      "Asserts passed!\n"
     ]
    }
   ],
   "source": [
    "def distance(x1, y1, x2, y2):\n",
    "    dx = x2 - x1\n",
    "    dy = y2 - y1\n",
    "    sum = dx**2 + dy**2\n",
    "    return 0.0\n",
    "\n",
    "assert distance(1, 2, 4, 6) == 0.0\n",
    "assert distance(1, 2, 1, 2) == 0.0\n",
    "\n",
    "print(\"Asserts passed!\")"
   ]
  },
  {
   "cell_type": "markdown",
   "metadata": {},
   "source": [
    "### Step 4\n",
    "\n",
    "Finally, you can use `math.sqrt()` to compute the result."
   ]
  },
  {
   "cell_type": "code",
   "execution_count": 23,
   "metadata": {},
   "outputs": [
    {
     "name": "stdout",
     "output_type": "stream",
     "text": [
      "Asserts passed!\n"
     ]
    }
   ],
   "source": [
    "import math\n",
    "\n",
    "def distance(x1, y1, x2, y2):\n",
    "    dx = x2 - x1\n",
    "    dy = y2 - y1\n",
    "    sum = dx**2 + dy**2\n",
    "    return math.sqrt(sum)\n",
    "\n",
    "d = distance(1, 2, 4, 6)\n",
    "\n",
    "assert distance(1, 2, 4, 6) == 5.0\n",
    "assert distance(2, 2, 2, 6) == 4.0\n",
    "\n",
    "print(\"Asserts passed!\")"
   ]
  }
 ],
 "metadata": {
  "kernelspec": {
   "display_name": "Python 3",
   "language": "python",
   "name": "python3"
  },
  "language_info": {
   "codemirror_mode": {
    "name": "ipython",
    "version": 3
   },
   "file_extension": ".py",
   "mimetype": "text/x-python",
   "name": "python",
   "nbconvert_exporter": "python",
   "pygments_lexer": "ipython3",
   "version": "3.9.7"
  }
 },
 "nbformat": 4,
 "nbformat_minor": 2
}
