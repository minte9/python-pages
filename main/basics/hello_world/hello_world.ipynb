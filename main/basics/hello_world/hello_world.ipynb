{
 "cells": [
  {
   "cell_type": "markdown",
   "metadata": {},
   "source": [
    "### Variables"
   ]
  },
  {
   "cell_type": "code",
   "execution_count": 2,
   "metadata": {},
   "outputs": [
    {
     "name": "stdout",
     "output_type": "stream",
     "text": [
      "Hello World\n",
      "41\n",
      "1 2 3\n"
     ]
    }
   ],
   "source": [
    "\"\"\" An assignment creates a variable and gives it value\n",
    "\"\"\"\n",
    "\n",
    "message = 'Hello World'\n",
    "print(message) \n",
    "    # Hello World\n",
    "\n",
    "n = 17\n",
    "n = n + 24\n",
    "print(n) \n",
    "\n",
    "# You can assign multiple variables in one line\n",
    "a, b, c = [1, 2, 3]\n",
    "print(a, b, c)"
   ]
  },
  {
   "cell_type": "markdown",
   "metadata": {},
   "source": [
    "### Statements"
   ]
  },
  {
   "cell_type": "code",
   "execution_count": 5,
   "metadata": {},
   "outputs": [
    {
     "name": "stdout",
     "output_type": "stream",
     "text": [
      "17\n"
     ]
    }
   ],
   "source": [
    "\"\"\" When you type a statement, the interpreter executes it\n",
    "\"\"\"\n",
    "\n",
    "n = 17    # stmt\n",
    "print(n)  # stmt"
   ]
  },
  {
   "cell_type": "markdown",
   "metadata": {},
   "source": [
    "### Operators"
   ]
  },
  {
   "cell_type": "code",
   "execution_count": 6,
   "metadata": {},
   "outputs": [
    {
     "name": "stdout",
     "output_type": "stream",
     "text": [
      "Hello World\n",
      "HelloHelloHello\n"
     ]
    }
   ],
   "source": [
    "\"\"\" The + operator concatenates two strings\n",
    "    The * operator performs repetitions on strings\n",
    "\"\"\"\n",
    "\n",
    "a = 'Hello'\n",
    "b = 'World'\n",
    "\n",
    "print(a + ' ' + b) \n",
    "print(a * 3) "
   ]
  }
 ],
 "metadata": {
  "kernelspec": {
   "display_name": "Python 3",
   "language": "python",
   "name": "python3"
  },
  "language_info": {
   "codemirror_mode": {
    "name": "ipython",
    "version": 3
   },
   "file_extension": ".py",
   "mimetype": "text/x-python",
   "name": "python",
   "nbconvert_exporter": "python",
   "pygments_lexer": "ipython3",
   "version": "3.9.7"
  }
 },
 "nbformat": 4,
 "nbformat_minor": 2
}
