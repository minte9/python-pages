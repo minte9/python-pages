{
 "cells": [
  {
   "cell_type": "markdown",
   "metadata": {},
   "source": [
    "### Conditional"
   ]
  },
  {
   "cell_type": "code",
   "execution_count": 7,
   "metadata": {},
   "outputs": [
    {
     "name": "stdout",
     "output_type": "stream",
     "text": [
      "N is divisible by 10\n"
     ]
    }
   ],
   "source": [
    "\"\"\" Conditional statement\n",
    "    We can check condtions and change the behavior\n",
    "\"\"\"\n",
    "\n",
    "N = 20\n",
    "\n",
    "if N % 10 == 0:\n",
    "    print(\"N is divisible by 10\")\n",
    "elif N % 10 > 0:\n",
    "    print(\"N is not divisible by 10\") \n",
    "else:\n",
    "    pass"
   ]
  },
  {
   "cell_type": "markdown",
   "metadata": {},
   "source": [
    "### User Input"
   ]
  },
  {
   "cell_type": "code",
   "execution_count": 12,
   "metadata": {},
   "outputs": [
    {
     "name": "stdout",
     "output_type": "stream",
     "text": [
      "Your name is: John\n"
     ]
    }
   ],
   "source": [
    "\"\"\" Python provides a function that stops the program and waits for the user input \n",
    "\"\"\"\n",
    "\n",
    "name = input('What is your name?\\n')\n",
    "\n",
    "print('Your name is:', name)"
   ]
  },
  {
   "cell_type": "markdown",
   "metadata": {},
   "source": [
    "### While"
   ]
  },
  {
   "cell_type": "code",
   "execution_count": 13,
   "metadata": {},
   "outputs": [
    {
     "name": "stdout",
     "output_type": "stream",
     "text": [
      "5\n",
      "4\n",
      "3\n",
      "2\n",
      "1\n"
     ]
    }
   ],
   "source": [
    " \n",
    "\"\"\" While statement\n",
    "    The syntax is similar to a function definition.\n",
    "\n",
    "    You can almost read while statement as if it were English:\n",
    "        - while n is greater than 0\n",
    "        - display n\n",
    "        - then decrement it\n",
    "\"\"\"\n",
    "\n",
    "def countdown(n):\n",
    "    while(n > 0):\n",
    "        print(n)\n",
    "        n = n -1\n",
    "\n",
    "countdown(5)"
   ]
  },
  {
   "cell_type": "markdown",
   "metadata": {},
   "source": [
    "### Wait"
   ]
  },
  {
   "cell_type": "code",
   "execution_count": 17,
   "metadata": {},
   "outputs": [
    {
     "name": "stdout",
     "output_type": "stream",
     "text": [
      "Mary\n",
      "Hello World\n",
      "Done\n"
     ]
    }
   ],
   "source": [
    "\"\"\" Sometimes you want to take input from user until they type quit\n",
    "\"\"\"\n",
    "  \n",
    "while True:\n",
    "    line = input('> ')\n",
    "    if (line == 'quit'): \n",
    "        break\n",
    "    print(line)\n",
    "\n",
    "print('Done')"
   ]
  }
 ],
 "metadata": {
  "kernelspec": {
   "display_name": "Python 3",
   "language": "python",
   "name": "python3"
  },
  "language_info": {
   "codemirror_mode": {
    "name": "ipython",
    "version": 3
   },
   "file_extension": ".py",
   "mimetype": "text/x-python",
   "name": "python",
   "nbconvert_exporter": "python",
   "pygments_lexer": "ipython3",
   "version": "3.9.7"
  }
 },
 "nbformat": 4,
 "nbformat_minor": 2
}
