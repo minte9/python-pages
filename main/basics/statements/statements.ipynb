{
 "cells": [
  {
   "cell_type": "markdown",
   "metadata": {},
   "source": [
    "### Execution"
   ]
  },
  {
   "cell_type": "code",
   "execution_count": 1,
   "metadata": {},
   "outputs": [
    {
     "name": "stdout",
     "output_type": "stream",
     "text": [
      "17\n"
     ]
    }
   ],
   "source": [
    "\"\"\" When you type a statement, the interpreter executes it\n",
    "\"\"\"\n",
    "\n",
    "n = 17    # stmt\n",
    "print(n)  # stmt"
   ]
  },
  {
   "cell_type": "markdown",
   "metadata": {},
   "source": [
    "### Assignment"
   ]
  },
  {
   "cell_type": "code",
   "execution_count": 1,
   "metadata": {},
   "outputs": [
    {
     "name": "stdout",
     "output_type": "stream",
     "text": [
      "41\n",
      "1 2 3\n"
     ]
    }
   ],
   "source": [
    "\"\"\" An assignment creates a variable and gives it value\n",
    "\"\"\"\n",
    "\n",
    "n = 17\n",
    "n = n + 24\n",
    "\n",
    "\n",
    "# You can assign multiple variables in one line\n",
    "a, b, c = 1, 2, 3\n",
    "\n",
    "# Output variables\n",
    "print(n) \n",
    "print(a, b, c)"
   ]
  },
  {
   "cell_type": "markdown",
   "metadata": {},
   "source": [
    "### Conditional Statement"
   ]
  },
  {
   "cell_type": "code",
   "execution_count": 7,
   "metadata": {},
   "outputs": [
    {
     "name": "stdout",
     "output_type": "stream",
     "text": [
      "N is divisible by 10\n"
     ]
    }
   ],
   "source": [
    "\"\"\" Conditional statement\n",
    "    We can check condtions and change the behavior\n",
    "\"\"\"\n",
    "\n",
    "N = 20\n",
    "\n",
    "if N % 10 == 0:\n",
    "    print(\"N is divisible by 10\")\n",
    "elif N % 10 > 0:\n",
    "    print(\"N is not divisible by 10\") \n",
    "else:\n",
    "    pass"
   ]
  },
  {
   "cell_type": "markdown",
   "metadata": {},
   "source": [
    "### While Statement"
   ]
  },
  {
   "cell_type": "code",
   "execution_count": 3,
   "metadata": {},
   "outputs": [
    {
     "name": "stdout",
     "output_type": "stream",
     "text": [
      "5\n",
      "4\n",
      "3\n",
      "2\n",
      "1\n"
     ]
    }
   ],
   "source": [
    " \n",
    "\"\"\" While statement\n",
    "    The syntax is similar to a function definition\n",
    "\"\"\"\n",
    "\n",
    "def countdown(n):\n",
    "    while(n > 0):\n",
    "        print(n)\n",
    "        n = n -1\n",
    "\n",
    "countdown(5)"
   ]
  },
  {
   "cell_type": "markdown",
   "metadata": {},
   "source": [
    "### User input"
   ]
  },
  {
   "cell_type": "code",
   "execution_count": 2,
   "metadata": {},
   "outputs": [
    {
     "name": "stdout",
     "output_type": "stream",
     "text": [
      "2\n",
      "3\n",
      "Done\n"
     ]
    }
   ],
   "source": [
    "\"\"\" Sometimes you want to take input from user until they type quit\n",
    "    Python provides a function that stops the program and waits for the user input \n",
    "\"\"\"\n",
    "  \n",
    "while True:\n",
    "    line = input('> ')\n",
    "    if (line == 'quit'): \n",
    "        break\n",
    "    print(line)\n",
    "\n",
    "print('Done')"
   ]
  },
  {
   "cell_type": "markdown",
   "metadata": {},
   "source": [
    "### Multiline"
   ]
  },
  {
   "cell_type": "code",
   "execution_count": 3,
   "metadata": {},
   "outputs": [
    {
     "name": "stdout",
     "output_type": "stream",
     "text": [
      "Hello World\n"
     ]
    }
   ],
   "source": [
    "\"\"\" Split a single statemenbt on multple lines with `backslash` \\\n",
    "\"\"\"\n",
    "\n",
    "print(\"Hello \" + \\\n",
    "    \"World\")"
   ]
  }
 ],
 "metadata": {
  "kernelspec": {
   "display_name": "Python 3",
   "language": "python",
   "name": "python3"
  },
  "language_info": {
   "codemirror_mode": {
    "name": "ipython",
    "version": 3
   },
   "file_extension": ".py",
   "mimetype": "text/x-python",
   "name": "python",
   "nbconvert_exporter": "python",
   "pygments_lexer": "ipython3",
   "version": "3.9.7"
  }
 },
 "nbformat": 4,
 "nbformat_minor": 2
}
