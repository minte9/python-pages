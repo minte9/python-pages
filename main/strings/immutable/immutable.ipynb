{
 "cells": [
  {
   "cell_type": "markdown",
   "metadata": {},
   "source": [
    "### Immutable"
   ]
  },
  {
   "cell_type": "code",
   "execution_count": null,
   "metadata": {},
   "outputs": [],
   "source": [
    "\"\"\" Strings are immutable, you can't change them\n",
    "\"\"\"\n",
    "\n",
    "str = \"Hello World\"\n",
    "try:\n",
    "    str[0] = \"J\"  # invalid statement\n",
    "\n",
    "except TypeError as e:\n",
    "    print('TypeError:', e)"
   ]
  },
  {
   "cell_type": "markdown",
   "metadata": {},
   "source": [
    "### Slices"
   ]
  },
  {
   "cell_type": "code",
   "execution_count": 1,
   "metadata": {},
   "outputs": [
    {
     "name": "stdout",
     "output_type": "stream",
     "text": [
      "ba ba nana\n"
     ]
    }
   ],
   "source": [
    "\"\"\" A string is a sequence of characters\n",
    "    We can slice a portion of it with [:]\n",
    "\"\"\"\n",
    "\n",
    "str = \"banana\"\n",
    "\n",
    "# String slices\n",
    "s1 = str[0:2]   # first two chars\n",
    "s2 = str[:2]    # up to index 2\n",
    "s3 = str[2:]    # from index 2 to end\n",
    "\n",
    "print(s1, s2, s3)"
   ]
  },
  {
   "cell_type": "markdown",
   "metadata": {},
   "source": [
    "### Search Key"
   ]
  },
  {
   "cell_type": "code",
   "execution_count": 2,
   "metadata": {},
   "outputs": [
    {
     "name": "stdout",
     "output_type": "stream",
     "text": [
      "4\n"
     ]
    }
   ],
   "source": [
    "\"\"\" To search in a string, use a loop\n",
    "    Find key in a string\n",
    "\"\"\"\n",
    "\n",
    "def find_key(str, ch):\n",
    "    i = 0\n",
    "\n",
    "    while i < len(str):\n",
    "        if str[i] == ch:\n",
    "            return i\n",
    "\n",
    "        i = i + 1\n",
    "    return -1\n",
    "\n",
    "key = find_key(\"Hello World\", \"o\")\n",
    "print(key)"
   ]
  },
  {
   "cell_type": "markdown",
   "metadata": {},
   "source": [
    "### in Operator"
   ]
  },
  {
   "cell_type": "code",
   "execution_count": 15,
   "metadata": {},
   "outputs": [
    {
     "name": "stdout",
     "output_type": "stream",
     "text": [
      "Words: 113783\n",
      "Words (with char e): 37621\n"
     ]
    }
   ],
   "source": [
    "\"\"\" The `in` is a boolean operator\n",
    "    Returns True if the fist string appears as a substring in the second one\n",
    "    The repr() function returns a printable representation of the given object\n",
    "\"\"\" \n",
    "\n",
    "rows = open(\"data/words.txt\")\n",
    "\n",
    "def exists(word):\n",
    "    for char in word:\n",
    "\n",
    "        if char == \"e\":\n",
    "            return False\n",
    "            \n",
    "    return True\n",
    "\n",
    "W = []  # words\n",
    "E = []  # word with no e\n",
    "\n",
    "for row in rows:\n",
    "    word = row.strip()\n",
    "    W.append(word)\n",
    "\n",
    "    if (exists(word)):\n",
    "        E.append(word)  \n",
    "    \n",
    "print(\"Words: \" + repr(len(W)))\n",
    "print(\"Words (with char e): \" + repr(len(E)))"
   ]
  }
 ],
 "metadata": {
  "kernelspec": {
   "display_name": "Python 3",
   "language": "python",
   "name": "python3"
  },
  "language_info": {
   "codemirror_mode": {
    "name": "ipython",
    "version": 3
   },
   "file_extension": ".py",
   "mimetype": "text/x-python",
   "name": "python",
   "nbconvert_exporter": "python",
   "pygments_lexer": "ipython3",
   "version": "3.9.7"
  }
 },
 "nbformat": 4,
 "nbformat_minor": 2
}
