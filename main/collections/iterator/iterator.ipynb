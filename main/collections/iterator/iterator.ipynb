{
 "cells": [
  {
   "attachments": {},
   "cell_type": "markdown",
   "metadata": {},
   "source": [
    "### Iterable\n",
    "\n",
    "An iterable object returns an iterator when passed to the build-in function `iter()`"
   ]
  },
  {
   "cell_type": "code",
   "execution_count": 49,
   "metadata": {},
   "outputs": [
    {
     "name": "stdout",
     "output_type": "stream",
     "text": [
      "1\n",
      "2\n",
      "3\n",
      "StopIteration\n"
     ]
    }
   ],
   "source": [
    "A = [1, 2, 3]\n",
    "I = iter(A) # iterator\n",
    "\n",
    "print(next(I))\n",
    "print(next(I))\n",
    "print(next(I))\n",
    "\n",
    "try:\n",
    "    print(next(I))\n",
    "except StopIteration:\n",
    "    print(\"StopIteration\")"
   ]
  },
  {
   "attachments": {},
   "cell_type": "markdown",
   "metadata": {},
   "source": [
    "### Loop\n",
    "\n",
    "A loop implicitly `creates` an iterator from the iterable object and calls its next() method."
   ]
  },
  {
   "cell_type": "code",
   "execution_count": 50,
   "metadata": {},
   "outputs": [
    {
     "name": "stdout",
     "output_type": "stream",
     "text": [
      "1\n",
      "2\n",
      "3\n"
     ]
    }
   ],
   "source": [
    "A = [1, 2, 3]\n",
    "for i in A:\n",
    "    print(i)"
   ]
  },
  {
   "attachments": {},
   "cell_type": "markdown",
   "metadata": {},
   "source": [
    "### Any Object\n",
    "\n",
    "An iterator can be used with `any` iterable object, not just lists."
   ]
  },
  {
   "cell_type": "code",
   "execution_count": 51,
   "metadata": {},
   "outputs": [
    {
     "name": "stdout",
     "output_type": "stream",
     "text": [
      "a\n",
      "b\n",
      "c\n"
     ]
    }
   ],
   "source": [
    "s = \"abc\"\n",
    "I = iter(s)\n",
    "\n",
    "print(next(I))\n",
    "print(next(I))\n",
    "print(next(I))\n",
    "\n",
    "try:\n",
    "    print(next(I))\n",
    "except StopIteration:\n",
    "    pass"
   ]
  },
  {
   "attachments": {},
   "cell_type": "markdown",
   "metadata": {},
   "source": [
    "### Memory\n",
    "\n",
    "An iterator is more `efficient` than a for loop, because it does not store the collection in memory."
   ]
  },
  {
   "cell_type": "code",
   "execution_count": 52,
   "metadata": {},
   "outputs": [
    {
     "name": "stdout",
     "output_type": "stream",
     "text": [
      "10\n",
      "Loop memory: 8000056\n",
      "10\n",
      "Iterator memory: 304\n"
     ]
    }
   ],
   "source": [
    "import sys\n",
    "numbers = list(range(1_000_000))\n",
    "\n",
    "# Loop memory usage\n",
    "m = sys.getsizeof(numbers)\n",
    "for n in numbers:\n",
    "    if n == 10:\n",
    "        print(n)\n",
    "        print(\"Loop memory:\", m) # 8 MB\n",
    "        break\n",
    "\n",
    "# Iterator memory usage\n",
    "m = 0\n",
    "iterator = iter(numbers)\n",
    "while True:\n",
    "    n = next(iterator)\n",
    "    m += sys.getsizeof(n)\n",
    "    if n == 10:\n",
    "        print(n)\n",
    "        print(\"Iterator memory:\", m) # 300 bytes\n",
    "        break"
   ]
  },
  {
   "attachments": {},
   "cell_type": "markdown",
   "metadata": {},
   "source": [
    "### Complex Looping\n",
    "\n",
    "An iterator can be used to `implement` more complex looping patterns than a for loop."
   ]
  },
  {
   "cell_type": "code",
   "execution_count": 53,
   "metadata": {},
   "outputs": [
    {
     "name": "stdout",
     "output_type": "stream",
     "text": [
      "Depth-First Traversal:\n",
      "{'name': 'John', 'age': 30, 'city': 'New York', 'children': [{'name': 'Alice', 'age': 5}, {'name': 'Bob', 'age': 8}]}\n",
      "[{'name': 'Alice', 'age': 5}, {'name': 'Bob', 'age': 8}]\n",
      "{'name': 'Alice', 'age': 5}\n",
      "5\n",
      "Alice\n",
      "{'name': 'Bob', 'age': 8}\n",
      "8\n",
      "Bob\n",
      "New York\n",
      "30\n",
      "John\n"
     ]
    }
   ],
   "source": [
    "import json\n",
    "\n",
    "json_data = \"\"\"\n",
    "{\n",
    "  \"name\": \"John\",\n",
    "  \"age\": 30,\n",
    "  \"city\": \"New York\",\n",
    "  \"children\": [\n",
    "    {\n",
    "        \"name\": \"Alice\",\n",
    "        \"age\": 5\n",
    "    },\n",
    "    {\n",
    "        \"name\": \"Bob\",\n",
    "        \"age\": 8\n",
    "    }\n",
    "  ]\n",
    "}\n",
    "\"\"\"\n",
    "\n",
    "def depth_first_traversal(json_obj):\n",
    "    stack = [json_obj]\n",
    "\n",
    "    while stack: # loop until there are no iterable elements (such as strings or numbers)\n",
    "        current = stack.pop()\n",
    "        yield current\n",
    "\n",
    "        if isinstance(current, dict):\n",
    "            stack.extend(current.values())\n",
    "\n",
    "        elif isinstance(current, list):\n",
    "            stack.extend(current[::-1]) # new list in reverse order\n",
    "            \n",
    "# Parse json\n",
    "json_obj = json.loads(json_data)\n",
    "\n",
    "# Display elements\n",
    "print(\"Depth-First Traversal:\")\n",
    "for node in depth_first_traversal(json_obj):\n",
    "    print(node)"
   ]
  },
  {
   "attachments": {},
   "cell_type": "markdown",
   "metadata": {},
   "source": [
    "### References\n",
    "\n",
    "https://levelup.gitconnected.com/stop-using-for-loops-in-python-iterators-are-the-future-42c385d2b7f4"
   ]
  }
 ],
 "metadata": {
  "kernelspec": {
   "display_name": "Python 3",
   "language": "python",
   "name": "python3"
  },
  "language_info": {
   "codemirror_mode": {
    "name": "ipython",
    "version": 3
   },
   "file_extension": ".py",
   "mimetype": "text/x-python",
   "name": "python",
   "nbconvert_exporter": "python",
   "pygments_lexer": "ipython3",
   "version": "3.9.7"
  },
  "orig_nbformat": 4
 },
 "nbformat": 4,
 "nbformat_minor": 2
}
